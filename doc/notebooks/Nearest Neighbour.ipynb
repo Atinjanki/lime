{
 "cells": [
  {
   "cell_type": "code",
   "execution_count": 1,
   "metadata": {},
   "outputs": [],
   "source": [
    "from sklearn.neighbors import NearestNeighbors\n",
    "import numpy as np\n",
    "\n",
    "X = np.array([[-1, -1], [-2, -1], [-3, -2], [1, 1], [2, 1], [3, 2]])\n",
    "\n",
    "\n"
   ]
  },
  {
   "cell_type": "code",
   "execution_count": 2,
   "metadata": {},
   "outputs": [],
   "source": [
    "nbrs = NearestNeighbors(n_neighbors=3, algorithm='ball_tree').fit(X)"
   ]
  },
  {
   "cell_type": "code",
   "execution_count": 3,
   "metadata": {},
   "outputs": [],
   "source": [
    "distances, indices = nbrs.kneighbors(X)\n"
   ]
  },
  {
   "cell_type": "code",
   "execution_count": 4,
   "metadata": {},
   "outputs": [
    {
     "name": "stdout",
     "output_type": "stream",
     "text": [
      "[[0 1 2]\n",
      " [1 0 2]\n",
      " [2 1 0]\n",
      " [3 4 5]\n",
      " [4 3 5]\n",
      " [5 4 3]]\n",
      "[[0.         1.         2.23606798]\n",
      " [0.         1.         1.41421356]\n",
      " [0.         1.41421356 2.23606798]\n",
      " [0.         1.         2.23606798]\n",
      " [0.         1.         1.41421356]\n",
      " [0.         1.41421356 2.23606798]]\n"
     ]
    }
   ],
   "source": [
    "print(indices)\n",
    "\n",
    "\n",
    "\n",
    "\n",
    "\n",
    "\n",
    "print(distances)"
   ]
  },
  {
   "cell_type": "code",
   "execution_count": 5,
   "metadata": {},
   "outputs": [],
   "source": [
    "import numpy as np  \n",
    "import matplotlib.pyplot as plt  \n",
    "import pandas as pd "
   ]
  },
  {
   "cell_type": "code",
   "execution_count": 6,
   "metadata": {},
   "outputs": [],
   "source": [
    "import sklearn.model_selection\n",
    "import sklearn.datasets"
   ]
  },
  {
   "cell_type": "code",
   "execution_count": 7,
   "metadata": {},
   "outputs": [],
   "source": [
    "iris = sklearn.datasets.load_iris()"
   ]
  },
  {
   "cell_type": "code",
   "execution_count": 8,
   "metadata": {},
   "outputs": [
    {
     "name": "stderr",
     "output_type": "stream",
     "text": [
      "C:\\Users\\Atin\\Anaconda3\\lib\\site-packages\\sklearn\\model_selection\\_split.py:2179: FutureWarning: From version 0.21, test_size will always complement train_size unless both are specified.\n",
      "  FutureWarning)\n"
     ]
    }
   ],
   "source": [
    "train, test, labels_train, labels_test = sklearn.model_selection.train_test_split(iris.data, iris.target, train_size=0.80)\n"
   ]
  },
  {
   "cell_type": "code",
   "execution_count": 9,
   "metadata": {},
   "outputs": [
    {
     "data": {
      "text/plain": [
       "120"
      ]
     },
     "execution_count": 9,
     "metadata": {},
     "output_type": "execute_result"
    }
   ],
   "source": [
    "len(train)"
   ]
  },
  {
   "cell_type": "code",
   "execution_count": 10,
   "metadata": {},
   "outputs": [
    {
     "data": {
      "text/plain": [
       "StandardScaler(copy=True, with_mean=True, with_std=True)"
      ]
     },
     "execution_count": 10,
     "metadata": {},
     "output_type": "execute_result"
    }
   ],
   "source": [
    "from sklearn.preprocessing import StandardScaler  \n",
    "scaler = StandardScaler()  \n",
    "scaler.fit(train)\n"
   ]
  },
  {
   "cell_type": "code",
   "execution_count": 11,
   "metadata": {},
   "outputs": [],
   "source": [
    "train = scaler.transform(train)  \n",
    "test = scaler.transform(test) "
   ]
  },
  {
   "cell_type": "code",
   "execution_count": 12,
   "metadata": {},
   "outputs": [
    {
     "data": {
      "text/plain": [
       "array([[ 3.88581551e-01, -3.96651573e-01,  2.79483359e-01,\n",
       "         8.83040515e-02],\n",
       "       [ 1.61246045e+00,  2.64434382e-01,  1.23131316e+00,\n",
       "         7.34431258e-01],\n",
       "       [-1.32484891e+00, -1.76289588e-01, -1.34422631e+00,\n",
       "        -1.46240124e+00],\n",
       "       [-1.81440047e+00, -1.76289588e-01, -1.40021630e+00,\n",
       "        -1.33317580e+00],\n",
       "       [ 1.43805771e-01, -1.76289588e-01,  5.59433302e-01,\n",
       "         7.34431258e-01],\n",
       "       [-1.20246102e+00, -1.49846150e+00, -2.80416526e-01,\n",
       "        -2.99372272e-01],\n",
       "       [-1.44723680e+00,  2.64434382e-01, -1.23224633e+00,\n",
       "        -1.33317580e+00],\n",
       "       [-8.35297350e-01,  9.25520336e-01, -1.28823632e+00,\n",
       "        -1.33317580e+00],\n",
       "       [ 1.73484834e+00, -3.96651573e-01,  1.39928313e+00,\n",
       "         7.34431258e-01],\n",
       "       [ 1.36768467e+00,  2.64434382e-01,  5.03443313e-01,\n",
       "         2.17529493e-01],\n",
       "       [ 3.88581551e-01, -6.17013557e-01,  5.59433302e-01,\n",
       "         7.34431258e-01],\n",
       "       [-1.08007313e+00,  1.14588232e+00, -1.34422631e+00,\n",
       "        -1.33317580e+00],\n",
       "       [-1.08007313e+00,  7.05158351e-01, -1.23224633e+00,\n",
       "        -1.07472492e+00],\n",
       "       [ 6.33357331e-01,  2.64434382e-01,  8.39383245e-01,\n",
       "         1.38055846e+00],\n",
       "       [-8.35297350e-01, -8.37375542e-01,  5.55234053e-02,\n",
       "         2.17529493e-01],\n",
       "       [ 1.43805771e-01, -8.37375542e-01,  7.27403267e-01,\n",
       "         4.75980375e-01],\n",
       "       [ 2.14178808e-02, -1.76289588e-01,  7.27403267e-01,\n",
       "         7.34431258e-01],\n",
       "       [-1.20246102e+00, -1.76289588e-01, -1.34422631e+00,\n",
       "        -1.33317580e+00],\n",
       "       [ 2.22439990e+00, -1.76289588e-01,  1.28730315e+00,\n",
       "         1.38055846e+00],\n",
       "       [ 2.66193661e-01, -1.76289588e-01,  4.47453325e-01,\n",
       "         2.17529493e-01],\n",
       "       [-1.81440047e+00, -3.96651573e-01, -1.34422631e+00,\n",
       "        -1.33317580e+00],\n",
       "       [ 2.14178808e-02, -1.76289588e-01,  2.23493371e-01,\n",
       "         3.46754934e-01],\n",
       "       [-2.23357899e-01, -6.17013557e-01,  1.67503382e-01,\n",
       "         8.83040515e-02],\n",
       "       [-1.08007313e+00,  4.84796367e-01, -1.34422631e+00,\n",
       "        -1.33317580e+00],\n",
       "       [-2.23357899e-01, -1.76289588e-01,  2.23493371e-01,\n",
       "        -4.09213897e-02],\n",
       "       [-1.00970009e-01, -8.37375542e-01,  1.67503382e-01,\n",
       "        -2.99372272e-01],\n",
       "       [-1.08007313e+00, -2.37990944e+00, -1.68436549e-01,\n",
       "        -2.99372272e-01],\n",
       "       [-5.90521570e-01,  7.05158351e-01, -1.17625634e+00,\n",
       "        -1.33317580e+00],\n",
       "       [-4.68133680e-01, -1.49846150e+00, -4.66583238e-04,\n",
       "        -1.70146831e-01],\n",
       "       [ 2.66193661e-01, -6.17013557e-01,  5.03443313e-01,\n",
       "        -4.09213897e-02]])"
      ]
     },
     "execution_count": 12,
     "metadata": {},
     "output_type": "execute_result"
    }
   ],
   "source": [
    "test"
   ]
  },
  {
   "cell_type": "code",
   "execution_count": 13,
   "metadata": {},
   "outputs": [
    {
     "data": {
      "text/plain": [
       "30"
      ]
     },
     "execution_count": 13,
     "metadata": {},
     "output_type": "execute_result"
    }
   ],
   "source": [
    "len(test)"
   ]
  },
  {
   "cell_type": "code",
   "execution_count": 16,
   "metadata": {},
   "outputs": [],
   "source": [
    "nbrs = NearestNeighbors(n_neighbors=15, algorithm='auto').fit(test)"
   ]
  },
  {
   "cell_type": "code",
   "execution_count": 17,
   "metadata": {},
   "outputs": [],
   "source": [
    "distances, indices = nbrs.kneighbors(test)\n"
   ]
  },
  {
   "cell_type": "code",
   "execution_count": 18,
   "metadata": {},
   "outputs": [
    {
     "data": {
      "text/plain": [
       "array([[ 0, 19, 29, 21, 22, 24, 10, 25,  4, 15, 16,  9, 14, 28, 13],\n",
       "       [ 1,  8,  9, 18, 13, 10,  4, 19, 16,  0, 15, 29, 21, 24, 22],\n",
       "       [ 2, 17,  6,  3, 20, 23, 12, 27,  7, 11,  5, 14, 25, 24, 28],\n",
       "       [ 3, 20,  2,  6, 17, 23, 12,  7, 11, 27,  5, 14, 24, 28, 25],\n",
       "       [ 4, 16, 10, 21, 19, 15,  0, 29, 24, 22, 13, 25, 14,  9,  1],\n",
       "       [ 5, 28, 26, 14, 25, 22, 24, 29, 20, 15, 21, 17,  0,  2,  3],\n",
       "       [ 6, 23,  2, 17,  3, 12, 20,  7, 11, 27,  5, 24, 14, 25, 22],\n",
       "       [ 7, 11, 27, 12, 23,  6, 17,  2,  3, 20, 24, 25, 22, 21, 14],\n",
       "       [ 8,  1, 18,  9, 13, 10, 15,  4, 19, 16,  0, 29, 21, 22, 24],\n",
       "       [ 9,  1, 19,  0,  8,  4, 13, 10, 29, 21, 16, 15, 24, 18, 22],\n",
       "       [10, 15,  4, 16, 19,  0, 21, 29, 22, 24, 13, 25,  9, 14,  8],\n",
       "       [11,  7, 12, 23, 27,  6, 17,  2,  3, 20, 24, 22, 21, 25, 14],\n",
       "       [12, 23,  7, 11, 27,  6, 17,  2,  3, 20, 24, 14, 22, 25, 21],\n",
       "       [13,  4, 16, 10,  1, 19,  9, 21, 15,  8,  0, 18, 29, 24, 22],\n",
       "       [14, 22, 28, 25, 24,  5, 21, 15, 29,  0, 19, 16,  4, 10, 26],\n",
       "       [15, 10, 29, 16,  4, 19,  0, 22, 21, 25, 24, 14, 28, 13,  9],\n",
       "       [16,  4, 10, 21, 19, 15,  0, 29, 24, 22, 13, 25, 14,  9,  1],\n",
       "       [17,  2,  6,  3, 20, 23, 12, 27,  7, 11,  5, 14, 25, 24, 28],\n",
       "       [18,  8,  1,  9, 13, 10,  4, 16, 19, 15,  0, 29, 21, 22, 24],\n",
       "       [19,  0, 21, 29,  4, 24, 16, 10, 22, 15, 25,  9, 14, 13, 28],\n",
       "       [20,  3,  2, 17,  6, 23, 12,  7, 27, 11,  5, 14, 28, 25, 24],\n",
       "       [21, 19, 24,  0,  4, 22, 16, 29, 10, 15, 25, 14, 13,  9, 28],\n",
       "       [22, 25, 24, 21, 29,  0, 14, 19, 15,  4, 28, 10, 16,  5,  9],\n",
       "       [23, 12,  6,  7, 27, 11, 17,  2,  3, 20, 24, 25,  5, 14, 22],\n",
       "       [24, 21, 22, 19,  0, 29, 25,  4, 14, 16, 15, 10, 28,  9,  5],\n",
       "       [25, 22, 29, 24,  0, 28, 14, 21, 19, 15, 10,  4, 16,  5, 26],\n",
       "       [26,  5, 28, 14, 25, 22, 15, 29, 24,  0, 21, 10, 20, 19, 17],\n",
       "       [27,  7, 12, 23, 11,  6, 17,  2,  3, 20, 24, 25, 22, 21,  0],\n",
       "       [28, 25,  5, 14, 22, 26, 29, 15, 24,  0, 21, 19, 10,  4, 16],\n",
       "       [29,  0, 19, 25, 22, 15, 21, 24, 10,  4, 16, 14, 28,  9, 13]],\n",
       "      dtype=int64)"
      ]
     },
     "execution_count": 18,
     "metadata": {},
     "output_type": "execute_result"
    }
   ],
   "source": [
    "indices"
   ]
  },
  {
   "cell_type": "code",
   "execution_count": 19,
   "metadata": {},
   "outputs": [
    {
     "data": {
      "text/plain": [
       "array([ 0, 19, 29, 21, 22, 24, 10, 25,  4, 15, 16,  9, 14, 28, 13],\n",
       "      dtype=int64)"
      ]
     },
     "execution_count": 19,
     "metadata": {},
     "output_type": "execute_result"
    }
   ],
   "source": [
    "indices[0]"
   ]
  },
  {
   "cell_type": "code",
   "execution_count": 20,
   "metadata": {},
   "outputs": [
    {
     "data": {
      "text/plain": [
       "array([0.        , 0.32931949, 0.36110314, 0.50328948, 0.65997637,\n",
       "       0.66547982, 0.73784263, 0.77248352, 0.77738467, 0.77786758,\n",
       "       0.89525481, 1.20935307, 1.32626334, 1.44676015, 1.57491561])"
      ]
     },
     "execution_count": 20,
     "metadata": {},
     "output_type": "execute_result"
    }
   ],
   "source": [
    "distances[0]"
   ]
  },
  {
   "cell_type": "code",
   "execution_count": null,
   "metadata": {},
   "outputs": [],
   "source": []
  }
 ],
 "metadata": {
  "kernelspec": {
   "display_name": "Python 3",
   "language": "python",
   "name": "python3"
  },
  "language_info": {
   "codemirror_mode": {
    "name": "ipython",
    "version": 3
   },
   "file_extension": ".py",
   "mimetype": "text/x-python",
   "name": "python",
   "nbconvert_exporter": "python",
   "pygments_lexer": "ipython3",
   "version": "3.6.8"
  }
 },
 "nbformat": 4,
 "nbformat_minor": 2
}
