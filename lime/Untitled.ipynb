{
 "cells": [
  {
   "cell_type": "code",
   "execution_count": 1,
   "metadata": {},
   "outputs": [],
   "source": [
    "from __future__ import print_function\n",
    "import sklearn\n",
    "import sklearn.datasets\n",
    "import sklearn.ensemble\n",
    "import numpy as np\n",
    "import lime\n",
    "import lime.lime_tabular\n",
    "from sklearn.linear_model import LogisticRegression\n",
    "#from sklearn.metrics import accuracy_score\n",
    "\n",
    "\n",
    "\n",
    "np.random.seed(1)"
   ]
  },
  {
   "cell_type": "code",
   "execution_count": 2,
   "metadata": {},
   "outputs": [
    {
     "name": "stderr",
     "output_type": "stream",
     "text": [
      "Downloading https://ndownloader.figshare.com/files/5976039\n"
     ]
    }
   ],
   "source": [
    "covtype = sklearn.datasets.fetch_covtype()"
   ]
  },
  {
   "cell_type": "code",
   "execution_count": 3,
   "metadata": {},
   "outputs": [
    {
     "data": {
      "text/plain": [
       "{'data': array([[2.596e+03, 5.100e+01, 3.000e+00, ..., 0.000e+00, 0.000e+00,\n",
       "         0.000e+00],\n",
       "        [2.590e+03, 5.600e+01, 2.000e+00, ..., 0.000e+00, 0.000e+00,\n",
       "         0.000e+00],\n",
       "        [2.804e+03, 1.390e+02, 9.000e+00, ..., 0.000e+00, 0.000e+00,\n",
       "         0.000e+00],\n",
       "        ...,\n",
       "        [2.386e+03, 1.590e+02, 1.700e+01, ..., 0.000e+00, 0.000e+00,\n",
       "         0.000e+00],\n",
       "        [2.384e+03, 1.700e+02, 1.500e+01, ..., 0.000e+00, 0.000e+00,\n",
       "         0.000e+00],\n",
       "        [2.383e+03, 1.650e+02, 1.300e+01, ..., 0.000e+00, 0.000e+00,\n",
       "         0.000e+00]]),\n",
       " 'target': array([5, 5, 2, ..., 3, 3, 3]),\n",
       " 'DESCR': \".. _covtype_dataset:\\n\\nForest covertypes\\n-----------------\\n\\nThe samples in this dataset correspond to 30Ã—30m patches of forest in the US,\\ncollected for the task of predicting each patch's cover type,\\ni.e. the dominant species of tree.\\nThere are seven covertypes, making this a multiclass classification problem.\\nEach sample has 54 features, described on the\\n`dataset's homepage <http://archive.ics.uci.edu/ml/datasets/Covertype>`__.\\nSome of the features are boolean indicators,\\nwhile others are discrete or continuous measurements.\\n\\n**Data Set Characteristics:**\\n\\n    =================   ============\\n    Classes                        7\\n    Samples total             581012\\n    Dimensionality                54\\n    Features                     int\\n    =================   ============\\n\\n:func:`sklearn.datasets.fetch_covtype` will load the covertype dataset;\\nit returns a dictionary-like object\\nwith the feature matrix in the ``data`` member\\nand the target values in ``target``.\\nThe dataset will be downloaded from the web if necessary.\\n\"}"
      ]
     },
     "execution_count": 3,
     "metadata": {},
     "output_type": "execute_result"
    }
   ],
   "source": [
    "covtype"
   ]
  },
  {
   "cell_type": "code",
   "execution_count": 4,
   "metadata": {},
   "outputs": [
    {
     "data": {
      "text/plain": [
       "array([[2.596e+03, 5.100e+01, 3.000e+00, ..., 0.000e+00, 0.000e+00,\n",
       "        0.000e+00],\n",
       "       [2.590e+03, 5.600e+01, 2.000e+00, ..., 0.000e+00, 0.000e+00,\n",
       "        0.000e+00],\n",
       "       [2.804e+03, 1.390e+02, 9.000e+00, ..., 0.000e+00, 0.000e+00,\n",
       "        0.000e+00],\n",
       "       ...,\n",
       "       [2.386e+03, 1.590e+02, 1.700e+01, ..., 0.000e+00, 0.000e+00,\n",
       "        0.000e+00],\n",
       "       [2.384e+03, 1.700e+02, 1.500e+01, ..., 0.000e+00, 0.000e+00,\n",
       "        0.000e+00],\n",
       "       [2.383e+03, 1.650e+02, 1.300e+01, ..., 0.000e+00, 0.000e+00,\n",
       "        0.000e+00]])"
      ]
     },
     "execution_count": 4,
     "metadata": {},
     "output_type": "execute_result"
    }
   ],
   "source": [
    "covtype.data"
   ]
  },
  {
   "cell_type": "code",
   "execution_count": 5,
   "metadata": {},
   "outputs": [
    {
     "data": {
      "text/plain": [
       "array([5, 5, 2, ..., 3, 3, 3])"
      ]
     },
     "execution_count": 5,
     "metadata": {},
     "output_type": "execute_result"
    }
   ],
   "source": [
    "covtype.target"
   ]
  },
  {
   "cell_type": "code",
   "execution_count": 9,
   "metadata": {},
   "outputs": [
    {
     "name": "stderr",
     "output_type": "stream",
     "text": [
      "C:\\Users\\Atin\\Anaconda3\\lib\\site-packages\\sklearn\\model_selection\\_split.py:2179: FutureWarning: From version 0.21, test_size will always complement train_size unless both are specified.\n",
      "  FutureWarning)\n"
     ]
    }
   ],
   "source": [
    "train, test, labels_train, labels_test = sklearn.model_selection.train_test_split(covtype.data, covtype.target, train_size=0.80)\n"
   ]
  },
  {
   "cell_type": "code",
   "execution_count": 11,
   "metadata": {},
   "outputs": [
    {
     "data": {
      "text/plain": [
       "116203"
      ]
     },
     "execution_count": 11,
     "metadata": {},
     "output_type": "execute_result"
    }
   ],
   "source": [
    "len(test)"
   ]
  },
  {
   "cell_type": "code",
   "execution_count": 10,
   "metadata": {},
   "outputs": [
    {
     "data": {
      "text/plain": [
       "RandomForestClassifier(bootstrap=True, class_weight=None, criterion='gini',\n",
       "            max_depth=None, max_features='auto', max_leaf_nodes=None,\n",
       "            min_impurity_decrease=0.0, min_impurity_split=None,\n",
       "            min_samples_leaf=1, min_samples_split=2,\n",
       "            min_weight_fraction_leaf=0.0, n_estimators=500, n_jobs=None,\n",
       "            oob_score=False, random_state=None, verbose=0,\n",
       "            warm_start=False)"
      ]
     },
     "execution_count": 10,
     "metadata": {},
     "output_type": "execute_result"
    }
   ],
   "source": [
    "rf = sklearn.ensemble.RandomForestClassifier(n_estimators=500)\n",
    "rf.fit(train, labels_train)"
   ]
  },
  {
   "cell_type": "code",
   "execution_count": 12,
   "metadata": {},
   "outputs": [
    {
     "data": {
      "text/plain": [
       "0.9565587807543695"
      ]
     },
     "execution_count": 12,
     "metadata": {},
     "output_type": "execute_result"
    }
   ],
   "source": [
    "sklearn.metrics.accuracy_score(labels_test, rf.predict(test))"
   ]
  },
  {
   "cell_type": "code",
   "execution_count": 13,
   "metadata": {},
   "outputs": [],
   "source": [
    "from lime_tabular_new import LimeTabularExplainer as LimeTabularExplainer_new\n",
    "from lime.lime_tabular import LimeTabularExplainer as LimeTabularExplainer_old"
   ]
  },
  {
   "cell_type": "code",
   "execution_count": 16,
   "metadata": {},
   "outputs": [],
   "source": [
    "feature_names = ['Elevation',\n",
    "'Aspect',\n",
    "'Slope',\n",
    "'Horizontal_Distance_To_Hydrology',\n",
    "'Vertical_Distance_To_Hydrology',\n",
    "'Horizontal_Distance_To_Roadways',\n",
    "'Hillshade_9am',\n",
    "'Hillshade_Noon',\n",
    "'Hillshade_3pm',\n",
    "'Horizontal_Distance_To_Fire_Points',\n",
    "'Rawah Wilderness Area',\n",
    "'Neota Wilderness Area',\n",
    "'Comanche Peak Wilderness Area',\n",
    "'Cache la Poudre Wilderness Area',\n",
    "'Soil_type_1',\n",
    "'Soil_type_2',\n",
    "'Soil_type_3',\n",
    "'Soil_type_4',\n",
    "'Soil_type_5',\n",
    "'Soil_type_6',\n",
    "'Soil_type_7',\n",
    "'Soil_type_8',\n",
    "'Soil_type_9',\n",
    "'Soil_type_10',\n",
    "'Soil_type_11',\n",
    "'Soil_type_12',\n",
    "'Soil_type_13',\n",
    "'Soil_type_14',\n",
    "'Soil_type_15',\n",
    "'Soil_type_16',\n",
    "'Soil_type_17',\n",
    "'Soil_type_18',\n",
    "'Soil_type_19',\n",
    "'Soil_type_20',\n",
    "'Soil_type_21',\n",
    "'Soil_type_22',\n",
    "'Soil_type_23',\n",
    "'Soil_type_24',\n",
    "'Soil_type_25',\n",
    "'Soil_type_26',\n",
    "'Soil_type_27',\n",
    "'Soil_type_28',\n",
    "'Soil_type_29',\n",
    "'Soil_type_30',\n",
    "'Soil_type_31',\n",
    "'Soil_type_32',\n",
    "'Soil_type_33',\n",
    "'Soil_type_34',\n",
    "'Soil_type_35',\n",
    "'Soil_type_36',\n",
    "'Soil_type_37',\n",
    "'Soil_type_38',\n",
    "'Soil_type_39',\n",
    "'Soil_type_40']"
   ]
  },
  {
   "cell_type": "code",
   "execution_count": 17,
   "metadata": {},
   "outputs": [],
   "source": [
    "explainer_old = LimeTabularExplainer_old(train, feature_names=feature_names, class_names=None, discretize_continuous=True)\n",
    "explainer_new = LimeTabularExplainer_new(train, feature_names=feature_names, class_names=None, discretize_continuous=True)"
   ]
  },
  {
   "cell_type": "markdown",
   "metadata": {},
   "source": [
    "#### Explaining an instance"
   ]
  },
  {
   "cell_type": "code",
   "execution_count": null,
   "metadata": {},
   "outputs": [],
   "source": [
    "i = np.random.randint(0, test.shape[0])\n",
    "exp_old = explainer_old.explain_instance(test[i], rf.predict_proba, num_features=6, top_labels=1,num_samples=5000)\n",
    "exp_new = explainer_new.explain_instance(test[i],test,i, rf.predict_proba, num_features=6, top_labels=1,num_samples=5000)"
   ]
  },
  {
   "cell_type": "code",
   "execution_count": null,
   "metadata": {},
   "outputs": [],
   "source": [
    "test[i]"
   ]
  },
  {
   "cell_type": "code",
   "execution_count": null,
   "metadata": {},
   "outputs": [],
   "source": [
    "i"
   ]
  },
  {
   "cell_type": "code",
   "execution_count": null,
   "metadata": {},
   "outputs": [],
   "source": [
    "#Old\n",
    "exp_old.show_in_notebook(show_table=True, show_all=True)"
   ]
  },
  {
   "cell_type": "code",
   "execution_count": null,
   "metadata": {},
   "outputs": [],
   "source": [
    "#New\n",
    "exp_new.show_in_notebook(show_table=True, show_all=True)"
   ]
  }
 ],
 "metadata": {
  "kernelspec": {
   "display_name": "Python 3",
   "language": "python",
   "name": "python3"
  },
  "language_info": {
   "codemirror_mode": {
    "name": "ipython",
    "version": 3
   },
   "file_extension": ".py",
   "mimetype": "text/x-python",
   "name": "python",
   "nbconvert_exporter": "python",
   "pygments_lexer": "ipython3",
   "version": "3.6.8"
  }
 },
 "nbformat": 4,
 "nbformat_minor": 2
}
