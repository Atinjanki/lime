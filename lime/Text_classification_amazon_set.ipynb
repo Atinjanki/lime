{
 "cells": [
  {
   "cell_type": "code",
   "execution_count": 1,
   "metadata": {},
   "outputs": [],
   "source": [
    "import pandas as pd\n",
    "from sklearn.feature_extraction.text import TfidfVectorizer\n",
    "import numpy as np\n",
    "import sklearn\n",
    "from sklearn.ensemble import RandomForestClassifier\n",
    "np.random.seed(1)"
   ]
  },
  {
   "cell_type": "code",
   "execution_count": 2,
   "metadata": {},
   "outputs": [
    {
     "data": {
      "text/html": [
       "<div>\n",
       "<style scoped>\n",
       "    .dataframe tbody tr th:only-of-type {\n",
       "        vertical-align: middle;\n",
       "    }\n",
       "\n",
       "    .dataframe tbody tr th {\n",
       "        vertical-align: top;\n",
       "    }\n",
       "\n",
       "    .dataframe thead th {\n",
       "        text-align: right;\n",
       "    }\n",
       "</style>\n",
       "<table border=\"1\" class=\"dataframe\">\n",
       "  <thead>\n",
       "    <tr style=\"text-align: right;\">\n",
       "      <th></th>\n",
       "      <th>Data</th>\n",
       "      <th>Target</th>\n",
       "    </tr>\n",
       "  </thead>\n",
       "  <tbody>\n",
       "    <tr>\n",
       "      <th>0</th>\n",
       "      <td>So there is no way for me to plug it in here i...</td>\n",
       "      <td>0</td>\n",
       "    </tr>\n",
       "    <tr>\n",
       "      <th>1</th>\n",
       "      <td>Good case, Excellent value.</td>\n",
       "      <td>1</td>\n",
       "    </tr>\n",
       "    <tr>\n",
       "      <th>2</th>\n",
       "      <td>Great for the jawbone.</td>\n",
       "      <td>1</td>\n",
       "    </tr>\n",
       "    <tr>\n",
       "      <th>3</th>\n",
       "      <td>Tied to charger for conversations lasting more...</td>\n",
       "      <td>0</td>\n",
       "    </tr>\n",
       "    <tr>\n",
       "      <th>4</th>\n",
       "      <td>The mic is great.</td>\n",
       "      <td>1</td>\n",
       "    </tr>\n",
       "    <tr>\n",
       "      <th>5</th>\n",
       "      <td>I have to jiggle the plug to get it to line up...</td>\n",
       "      <td>0</td>\n",
       "    </tr>\n",
       "    <tr>\n",
       "      <th>6</th>\n",
       "      <td>If you have several dozen or several hundred c...</td>\n",
       "      <td>0</td>\n",
       "    </tr>\n",
       "    <tr>\n",
       "      <th>7</th>\n",
       "      <td>If you are Razr owner...you must have this!</td>\n",
       "      <td>1</td>\n",
       "    </tr>\n",
       "    <tr>\n",
       "      <th>8</th>\n",
       "      <td>Needless to say, I wasted my money.</td>\n",
       "      <td>0</td>\n",
       "    </tr>\n",
       "    <tr>\n",
       "      <th>9</th>\n",
       "      <td>What a waste of money and time!.</td>\n",
       "      <td>0</td>\n",
       "    </tr>\n",
       "    <tr>\n",
       "      <th>10</th>\n",
       "      <td>And the sound quality is great.</td>\n",
       "      <td>1</td>\n",
       "    </tr>\n",
       "    <tr>\n",
       "      <th>11</th>\n",
       "      <td>He was very impressed when going from the orig...</td>\n",
       "      <td>1</td>\n",
       "    </tr>\n",
       "    <tr>\n",
       "      <th>12</th>\n",
       "      <td>If the two were seperated by a mere 5+ ft I st...</td>\n",
       "      <td>0</td>\n",
       "    </tr>\n",
       "    <tr>\n",
       "      <th>13</th>\n",
       "      <td>Very good quality though</td>\n",
       "      <td>1</td>\n",
       "    </tr>\n",
       "    <tr>\n",
       "      <th>14</th>\n",
       "      <td>The design is very odd, as the ear \"clip\" is n...</td>\n",
       "      <td>0</td>\n",
       "    </tr>\n",
       "    <tr>\n",
       "      <th>15</th>\n",
       "      <td>Highly recommend for any one who has a blue to...</td>\n",
       "      <td>1</td>\n",
       "    </tr>\n",
       "    <tr>\n",
       "      <th>16</th>\n",
       "      <td>I advise EVERYONE DO NOT BE FOOLED!</td>\n",
       "      <td>0</td>\n",
       "    </tr>\n",
       "    <tr>\n",
       "      <th>17</th>\n",
       "      <td>So Far So Good!.</td>\n",
       "      <td>1</td>\n",
       "    </tr>\n",
       "    <tr>\n",
       "      <th>18</th>\n",
       "      <td>Works great!.</td>\n",
       "      <td>1</td>\n",
       "    </tr>\n",
       "    <tr>\n",
       "      <th>19</th>\n",
       "      <td>It clicks into place in a way that makes you w...</td>\n",
       "      <td>0</td>\n",
       "    </tr>\n",
       "    <tr>\n",
       "      <th>20</th>\n",
       "      <td>I went on Motorola's website and followed all ...</td>\n",
       "      <td>0</td>\n",
       "    </tr>\n",
       "    <tr>\n",
       "      <th>21</th>\n",
       "      <td>I bought this to use with my Kindle Fire and a...</td>\n",
       "      <td>1</td>\n",
       "    </tr>\n",
       "    <tr>\n",
       "      <th>22</th>\n",
       "      <td>The commercials are the most misleading.</td>\n",
       "      <td>0</td>\n",
       "    </tr>\n",
       "    <tr>\n",
       "      <th>23</th>\n",
       "      <td>I have yet to run this new battery below two b...</td>\n",
       "      <td>1</td>\n",
       "    </tr>\n",
       "    <tr>\n",
       "      <th>24</th>\n",
       "      <td>I bought it for my mother and she had a proble...</td>\n",
       "      <td>0</td>\n",
       "    </tr>\n",
       "    <tr>\n",
       "      <th>25</th>\n",
       "      <td>Great Pocket PC / phone combination.</td>\n",
       "      <td>1</td>\n",
       "    </tr>\n",
       "    <tr>\n",
       "      <th>26</th>\n",
       "      <td>I've owned this phone for 7 months now and can...</td>\n",
       "      <td>1</td>\n",
       "    </tr>\n",
       "    <tr>\n",
       "      <th>27</th>\n",
       "      <td>I didn't think that the instructions provided ...</td>\n",
       "      <td>0</td>\n",
       "    </tr>\n",
       "    <tr>\n",
       "      <th>28</th>\n",
       "      <td>People couldnt hear me talk and I had to pull ...</td>\n",
       "      <td>0</td>\n",
       "    </tr>\n",
       "    <tr>\n",
       "      <th>29</th>\n",
       "      <td>Doesn't hold charge.</td>\n",
       "      <td>0</td>\n",
       "    </tr>\n",
       "    <tr>\n",
       "      <th>...</th>\n",
       "      <td>...</td>\n",
       "      <td>...</td>\n",
       "    </tr>\n",
       "    <tr>\n",
       "      <th>770</th>\n",
       "      <td>AFter the first charge kept going dead after 1...</td>\n",
       "      <td>0</td>\n",
       "    </tr>\n",
       "    <tr>\n",
       "      <th>771</th>\n",
       "      <td>VERY cheap plastic, creaks like an old wooden ...</td>\n",
       "      <td>0</td>\n",
       "    </tr>\n",
       "    <tr>\n",
       "      <th>772</th>\n",
       "      <td>I get absolutely horrible reception in my apar...</td>\n",
       "      <td>0</td>\n",
       "    </tr>\n",
       "    <tr>\n",
       "      <th>773</th>\n",
       "      <td>The reception has been generally good.</td>\n",
       "      <td>1</td>\n",
       "    </tr>\n",
       "    <tr>\n",
       "      <th>774</th>\n",
       "      <td>Excellent sound, battery life and inconspicuou...</td>\n",
       "      <td>1</td>\n",
       "    </tr>\n",
       "    <tr>\n",
       "      <th>775</th>\n",
       "      <td>Great bluetooth!.</td>\n",
       "      <td>1</td>\n",
       "    </tr>\n",
       "    <tr>\n",
       "      <th>776</th>\n",
       "      <td>I highly recommend this case.</td>\n",
       "      <td>1</td>\n",
       "    </tr>\n",
       "    <tr>\n",
       "      <th>777</th>\n",
       "      <td>WORTHWHILE.</td>\n",
       "      <td>1</td>\n",
       "    </tr>\n",
       "    <tr>\n",
       "      <th>778</th>\n",
       "      <td>This is a great deal.</td>\n",
       "      <td>1</td>\n",
       "    </tr>\n",
       "    <tr>\n",
       "      <th>779</th>\n",
       "      <td>After my phone got to be about a year old, it'...</td>\n",
       "      <td>0</td>\n",
       "    </tr>\n",
       "    <tr>\n",
       "      <th>780</th>\n",
       "      <td>I am sorry I made this purchase.</td>\n",
       "      <td>0</td>\n",
       "    </tr>\n",
       "    <tr>\n",
       "      <th>781</th>\n",
       "      <td>I bought these hoping I could make my Bluetoot...</td>\n",
       "      <td>0</td>\n",
       "    </tr>\n",
       "    <tr>\n",
       "      <th>782</th>\n",
       "      <td>Treo and T-Mobile refused to replace it again ...</td>\n",
       "      <td>0</td>\n",
       "    </tr>\n",
       "    <tr>\n",
       "      <th>783</th>\n",
       "      <td>It was horrible!.</td>\n",
       "      <td>0</td>\n",
       "    </tr>\n",
       "    <tr>\n",
       "      <th>784</th>\n",
       "      <td>I don't think it would hold it too securly on ...</td>\n",
       "      <td>0</td>\n",
       "    </tr>\n",
       "    <tr>\n",
       "      <th>785</th>\n",
       "      <td>This allows the possibility of double booking ...</td>\n",
       "      <td>0</td>\n",
       "    </tr>\n",
       "    <tr>\n",
       "      <th>786</th>\n",
       "      <td>They work about 2 weeks then break.</td>\n",
       "      <td>0</td>\n",
       "    </tr>\n",
       "    <tr>\n",
       "      <th>787</th>\n",
       "      <td>It is simple to use and I like it.</td>\n",
       "      <td>1</td>\n",
       "    </tr>\n",
       "    <tr>\n",
       "      <th>788</th>\n",
       "      <td>It's a great tool for entertainment, communica...</td>\n",
       "      <td>1</td>\n",
       "    </tr>\n",
       "    <tr>\n",
       "      <th>789</th>\n",
       "      <td>I can't use this case because the smell is dis...</td>\n",
       "      <td>0</td>\n",
       "    </tr>\n",
       "    <tr>\n",
       "      <th>790</th>\n",
       "      <td>NOT WHAT I WANTED.</td>\n",
       "      <td>0</td>\n",
       "    </tr>\n",
       "    <tr>\n",
       "      <th>791</th>\n",
       "      <td>I own 2 of these cases and would order another.</td>\n",
       "      <td>1</td>\n",
       "    </tr>\n",
       "    <tr>\n",
       "      <th>792</th>\n",
       "      <td>Great Phone.</td>\n",
       "      <td>1</td>\n",
       "    </tr>\n",
       "    <tr>\n",
       "      <th>793</th>\n",
       "      <td>I bought this battery with a coupon from Amazo...</td>\n",
       "      <td>1</td>\n",
       "    </tr>\n",
       "    <tr>\n",
       "      <th>794</th>\n",
       "      <td>The internet access was fine, it the rare inst...</td>\n",
       "      <td>0</td>\n",
       "    </tr>\n",
       "    <tr>\n",
       "      <th>795</th>\n",
       "      <td>Perfect for the PS3.</td>\n",
       "      <td>1</td>\n",
       "    </tr>\n",
       "    <tr>\n",
       "      <th>796</th>\n",
       "      <td>Five star Plus, plus.</td>\n",
       "      <td>1</td>\n",
       "    </tr>\n",
       "    <tr>\n",
       "      <th>797</th>\n",
       "      <td>A good quality bargain.. I bought this after I...</td>\n",
       "      <td>1</td>\n",
       "    </tr>\n",
       "    <tr>\n",
       "      <th>798</th>\n",
       "      <td>$50 Down the drain.</td>\n",
       "      <td>0</td>\n",
       "    </tr>\n",
       "    <tr>\n",
       "      <th>799</th>\n",
       "      <td>I tried talking real loud but shouting on the ...</td>\n",
       "      <td>0</td>\n",
       "    </tr>\n",
       "  </tbody>\n",
       "</table>\n",
       "<p>800 rows × 2 columns</p>\n",
       "</div>"
      ],
      "text/plain": [
       "                                                  Data  Target\n",
       "0    So there is no way for me to plug it in here i...       0\n",
       "1                          Good case, Excellent value.       1\n",
       "2                               Great for the jawbone.       1\n",
       "3    Tied to charger for conversations lasting more...       0\n",
       "4                                    The mic is great.       1\n",
       "5    I have to jiggle the plug to get it to line up...       0\n",
       "6    If you have several dozen or several hundred c...       0\n",
       "7          If you are Razr owner...you must have this!       1\n",
       "8                  Needless to say, I wasted my money.       0\n",
       "9                     What a waste of money and time!.       0\n",
       "10                     And the sound quality is great.       1\n",
       "11   He was very impressed when going from the orig...       1\n",
       "12   If the two were seperated by a mere 5+ ft I st...       0\n",
       "13                            Very good quality though       1\n",
       "14   The design is very odd, as the ear \"clip\" is n...       0\n",
       "15   Highly recommend for any one who has a blue to...       1\n",
       "16                 I advise EVERYONE DO NOT BE FOOLED!       0\n",
       "17                                    So Far So Good!.       1\n",
       "18                                       Works great!.       1\n",
       "19   It clicks into place in a way that makes you w...       0\n",
       "20   I went on Motorola's website and followed all ...       0\n",
       "21   I bought this to use with my Kindle Fire and a...       1\n",
       "22            The commercials are the most misleading.       0\n",
       "23   I have yet to run this new battery below two b...       1\n",
       "24   I bought it for my mother and she had a proble...       0\n",
       "25                Great Pocket PC / phone combination.       1\n",
       "26   I've owned this phone for 7 months now and can...       1\n",
       "27   I didn't think that the instructions provided ...       0\n",
       "28   People couldnt hear me talk and I had to pull ...       0\n",
       "29                                Doesn't hold charge.       0\n",
       "..                                                 ...     ...\n",
       "770  AFter the first charge kept going dead after 1...       0\n",
       "771  VERY cheap plastic, creaks like an old wooden ...       0\n",
       "772  I get absolutely horrible reception in my apar...       0\n",
       "773             The reception has been generally good.       1\n",
       "774  Excellent sound, battery life and inconspicuou...       1\n",
       "775                                  Great bluetooth!.       1\n",
       "776                      I highly recommend this case.       1\n",
       "777                                        WORTHWHILE.       1\n",
       "778                              This is a great deal.       1\n",
       "779  After my phone got to be about a year old, it'...       0\n",
       "780                   I am sorry I made this purchase.       0\n",
       "781  I bought these hoping I could make my Bluetoot...       0\n",
       "782  Treo and T-Mobile refused to replace it again ...       0\n",
       "783                                  It was horrible!.       0\n",
       "784  I don't think it would hold it too securly on ...       0\n",
       "785  This allows the possibility of double booking ...       0\n",
       "786                They work about 2 weeks then break.       0\n",
       "787                 It is simple to use and I like it.       1\n",
       "788  It's a great tool for entertainment, communica...       1\n",
       "789  I can't use this case because the smell is dis...       0\n",
       "790                                 NOT WHAT I WANTED.       0\n",
       "791    I own 2 of these cases and would order another.       1\n",
       "792                                       Great Phone.       1\n",
       "793  I bought this battery with a coupon from Amazo...       1\n",
       "794  The internet access was fine, it the rare inst...       0\n",
       "795                               Perfect for the PS3.       1\n",
       "796                              Five star Plus, plus.       1\n",
       "797  A good quality bargain.. I bought this after I...       1\n",
       "798                                $50 Down the drain.       0\n",
       "799  I tried talking real loud but shouting on the ...       0\n",
       "\n",
       "[800 rows x 2 columns]"
      ]
     },
     "execution_count": 2,
     "metadata": {},
     "output_type": "execute_result"
    }
   ],
   "source": [
    "df_train = pd.read_csv(r'C:\\Users\\Atin\\Desktop\\LIME_Seminar_Paper\\Dataset\\Sentiment -Amazon,IMDB,Yelp\\Amazon_train_800.csv')\n",
    "df_train"
   ]
  },
  {
   "cell_type": "code",
   "execution_count": 3,
   "metadata": {},
   "outputs": [
    {
     "data": {
      "text/html": [
       "<div>\n",
       "<style scoped>\n",
       "    .dataframe tbody tr th:only-of-type {\n",
       "        vertical-align: middle;\n",
       "    }\n",
       "\n",
       "    .dataframe tbody tr th {\n",
       "        vertical-align: top;\n",
       "    }\n",
       "\n",
       "    .dataframe thead th {\n",
       "        text-align: right;\n",
       "    }\n",
       "</style>\n",
       "<table border=\"1\" class=\"dataframe\">\n",
       "  <thead>\n",
       "    <tr style=\"text-align: right;\">\n",
       "      <th></th>\n",
       "      <th>Data</th>\n",
       "      <th>Target</th>\n",
       "    </tr>\n",
       "  </thead>\n",
       "  <tbody>\n",
       "    <tr>\n",
       "      <th>0</th>\n",
       "      <td>Good , works fine.</td>\n",
       "      <td>1</td>\n",
       "    </tr>\n",
       "    <tr>\n",
       "      <th>1</th>\n",
       "      <td>For the price this was a great deal.</td>\n",
       "      <td>1</td>\n",
       "    </tr>\n",
       "    <tr>\n",
       "      <th>2</th>\n",
       "      <td>Great price, too!</td>\n",
       "      <td>1</td>\n",
       "    </tr>\n",
       "    <tr>\n",
       "      <th>3</th>\n",
       "      <td>If there is a wind, it is completely useless.</td>\n",
       "      <td>0</td>\n",
       "    </tr>\n",
       "    <tr>\n",
       "      <th>4</th>\n",
       "      <td>Yes it's shiny on front side - and I love it!</td>\n",
       "      <td>1</td>\n",
       "    </tr>\n",
       "    <tr>\n",
       "      <th>5</th>\n",
       "      <td>Does Not Work.</td>\n",
       "      <td>0</td>\n",
       "    </tr>\n",
       "    <tr>\n",
       "      <th>6</th>\n",
       "      <td>At first I thought I was grtting a good deal a...</td>\n",
       "      <td>0</td>\n",
       "    </tr>\n",
       "    <tr>\n",
       "      <th>7</th>\n",
       "      <td>The reception through this headset is excellent.</td>\n",
       "      <td>1</td>\n",
       "    </tr>\n",
       "    <tr>\n",
       "      <th>8</th>\n",
       "      <td>2 thumbs up to this seller</td>\n",
       "      <td>1</td>\n",
       "    </tr>\n",
       "    <tr>\n",
       "      <th>9</th>\n",
       "      <td>I have a Verizon LG phone and they work well t...</td>\n",
       "      <td>1</td>\n",
       "    </tr>\n",
       "    <tr>\n",
       "      <th>10</th>\n",
       "      <td>Improper description.... I had to return it.</td>\n",
       "      <td>0</td>\n",
       "    </tr>\n",
       "    <tr>\n",
       "      <th>11</th>\n",
       "      <td>#1 It Works - #2 It is Comfortable.</td>\n",
       "      <td>1</td>\n",
       "    </tr>\n",
       "    <tr>\n",
       "      <th>12</th>\n",
       "      <td>Battery charge-life is quite long.</td>\n",
       "      <td>1</td>\n",
       "    </tr>\n",
       "    <tr>\n",
       "      <th>13</th>\n",
       "      <td>The Jabra EarGels fit my ears very well.</td>\n",
       "      <td>1</td>\n",
       "    </tr>\n",
       "    <tr>\n",
       "      <th>14</th>\n",
       "      <td>Battery has no life.</td>\n",
       "      <td>0</td>\n",
       "    </tr>\n",
       "    <tr>\n",
       "      <th>15</th>\n",
       "      <td>I checked everywhere and there is no feature f...</td>\n",
       "      <td>0</td>\n",
       "    </tr>\n",
       "    <tr>\n",
       "      <th>16</th>\n",
       "      <td>Product is exactly as described.</td>\n",
       "      <td>1</td>\n",
       "    </tr>\n",
       "    <tr>\n",
       "      <th>17</th>\n",
       "      <td>Gets a signal when other Verizon phones won't.</td>\n",
       "      <td>1</td>\n",
       "    </tr>\n",
       "    <tr>\n",
       "      <th>18</th>\n",
       "      <td>Gets a signal when other Verizon phones would ...</td>\n",
       "      <td>1</td>\n",
       "    </tr>\n",
       "    <tr>\n",
       "      <th>19</th>\n",
       "      <td>Gets a signal when other Verizon phones do not.</td>\n",
       "      <td>1</td>\n",
       "    </tr>\n",
       "    <tr>\n",
       "      <th>20</th>\n",
       "      <td>Doesn't do the job.</td>\n",
       "      <td>0</td>\n",
       "    </tr>\n",
       "    <tr>\n",
       "      <th>21</th>\n",
       "      <td>I would recommend it.</td>\n",
       "      <td>1</td>\n",
       "    </tr>\n",
       "    <tr>\n",
       "      <th>22</th>\n",
       "      <td>Plan on ordering from them again and again.</td>\n",
       "      <td>1</td>\n",
       "    </tr>\n",
       "    <tr>\n",
       "      <th>23</th>\n",
       "      <td>That being said, for a phone, the camera is ve...</td>\n",
       "      <td>1</td>\n",
       "    </tr>\n",
       "    <tr>\n",
       "      <th>24</th>\n",
       "      <td>I have been very satisfied with this cell phon...</td>\n",
       "      <td>1</td>\n",
       "    </tr>\n",
       "    <tr>\n",
       "      <th>25</th>\n",
       "      <td>They keep getting better and better (this is m...</td>\n",
       "      <td>1</td>\n",
       "    </tr>\n",
       "    <tr>\n",
       "      <th>26</th>\n",
       "      <td>Awkward to use and unreliable.</td>\n",
       "      <td>0</td>\n",
       "    </tr>\n",
       "    <tr>\n",
       "      <th>27</th>\n",
       "      <td>The shipping time was also very quick!</td>\n",
       "      <td>1</td>\n",
       "    </tr>\n",
       "    <tr>\n",
       "      <th>28</th>\n",
       "      <td>Not as good as I had hoped.</td>\n",
       "      <td>0</td>\n",
       "    </tr>\n",
       "    <tr>\n",
       "      <th>29</th>\n",
       "      <td>Good case!.</td>\n",
       "      <td>1</td>\n",
       "    </tr>\n",
       "    <tr>\n",
       "      <th>...</th>\n",
       "      <td>...</td>\n",
       "      <td>...</td>\n",
       "    </tr>\n",
       "    <tr>\n",
       "      <th>172</th>\n",
       "      <td>I plugged it in only to find out not a darn th...</td>\n",
       "      <td>0</td>\n",
       "    </tr>\n",
       "    <tr>\n",
       "      <th>173</th>\n",
       "      <td>Excellent product.</td>\n",
       "      <td>1</td>\n",
       "    </tr>\n",
       "    <tr>\n",
       "      <th>174</th>\n",
       "      <td>Earbud piece breaks easily.</td>\n",
       "      <td>0</td>\n",
       "    </tr>\n",
       "    <tr>\n",
       "      <th>175</th>\n",
       "      <td>Lousy product.</td>\n",
       "      <td>0</td>\n",
       "    </tr>\n",
       "    <tr>\n",
       "      <th>176</th>\n",
       "      <td>This phone tries very hard to do everything bu...</td>\n",
       "      <td>0</td>\n",
       "    </tr>\n",
       "    <tr>\n",
       "      <th>177</th>\n",
       "      <td>It is the best charger I have seen on the mark...</td>\n",
       "      <td>1</td>\n",
       "    </tr>\n",
       "    <tr>\n",
       "      <th>178</th>\n",
       "      <td>SWEETEST PHONE!!!</td>\n",
       "      <td>1</td>\n",
       "    </tr>\n",
       "    <tr>\n",
       "      <th>179</th>\n",
       "      <td>:-)Oh, the charger seems to work fine.</td>\n",
       "      <td>1</td>\n",
       "    </tr>\n",
       "    <tr>\n",
       "      <th>180</th>\n",
       "      <td>It fits so securely that the ear hook does not...</td>\n",
       "      <td>1</td>\n",
       "    </tr>\n",
       "    <tr>\n",
       "      <th>181</th>\n",
       "      <td>Not enough volume.</td>\n",
       "      <td>0</td>\n",
       "    </tr>\n",
       "    <tr>\n",
       "      <th>182</th>\n",
       "      <td>Echo Problem....Very unsatisfactory</td>\n",
       "      <td>0</td>\n",
       "    </tr>\n",
       "    <tr>\n",
       "      <th>183</th>\n",
       "      <td>you could only take 2 videos at a time and the...</td>\n",
       "      <td>0</td>\n",
       "    </tr>\n",
       "    <tr>\n",
       "      <th>184</th>\n",
       "      <td>don't waste your money.</td>\n",
       "      <td>0</td>\n",
       "    </tr>\n",
       "    <tr>\n",
       "      <th>185</th>\n",
       "      <td>I am going to have to be the first to negative...</td>\n",
       "      <td>0</td>\n",
       "    </tr>\n",
       "    <tr>\n",
       "      <th>186</th>\n",
       "      <td>Adapter does not provide enough charging current.</td>\n",
       "      <td>0</td>\n",
       "    </tr>\n",
       "    <tr>\n",
       "      <th>187</th>\n",
       "      <td>There was so much hype over this phone that I ...</td>\n",
       "      <td>0</td>\n",
       "    </tr>\n",
       "    <tr>\n",
       "      <th>188</th>\n",
       "      <td>You also cannot take pictures with it in the c...</td>\n",
       "      <td>0</td>\n",
       "    </tr>\n",
       "    <tr>\n",
       "      <th>189</th>\n",
       "      <td>Phone falls out easily.</td>\n",
       "      <td>0</td>\n",
       "    </tr>\n",
       "    <tr>\n",
       "      <th>190</th>\n",
       "      <td>It didn't work, people can not hear me when I ...</td>\n",
       "      <td>0</td>\n",
       "    </tr>\n",
       "    <tr>\n",
       "      <th>191</th>\n",
       "      <td>The text messaging feature is really tricky to...</td>\n",
       "      <td>0</td>\n",
       "    </tr>\n",
       "    <tr>\n",
       "      <th>192</th>\n",
       "      <td>I'm really disappointed all I have now is a ch...</td>\n",
       "      <td>0</td>\n",
       "    </tr>\n",
       "    <tr>\n",
       "      <th>193</th>\n",
       "      <td>Painful on the ear.</td>\n",
       "      <td>0</td>\n",
       "    </tr>\n",
       "    <tr>\n",
       "      <th>194</th>\n",
       "      <td>Lasted one day and then blew up.</td>\n",
       "      <td>0</td>\n",
       "    </tr>\n",
       "    <tr>\n",
       "      <th>195</th>\n",
       "      <td>disappointed.</td>\n",
       "      <td>0</td>\n",
       "    </tr>\n",
       "    <tr>\n",
       "      <th>196</th>\n",
       "      <td>Kind of flops around.</td>\n",
       "      <td>0</td>\n",
       "    </tr>\n",
       "    <tr>\n",
       "      <th>197</th>\n",
       "      <td>The screen does get smudged easily because it ...</td>\n",
       "      <td>0</td>\n",
       "    </tr>\n",
       "    <tr>\n",
       "      <th>198</th>\n",
       "      <td>What a piece of junk.. I lose more calls on th...</td>\n",
       "      <td>0</td>\n",
       "    </tr>\n",
       "    <tr>\n",
       "      <th>199</th>\n",
       "      <td>Item Does Not Match Picture.</td>\n",
       "      <td>0</td>\n",
       "    </tr>\n",
       "    <tr>\n",
       "      <th>200</th>\n",
       "      <td>The only thing that disappoint me is the infra...</td>\n",
       "      <td>0</td>\n",
       "    </tr>\n",
       "    <tr>\n",
       "      <th>201</th>\n",
       "      <td>You can not answer calls with the unit, never ...</td>\n",
       "      <td>0</td>\n",
       "    </tr>\n",
       "  </tbody>\n",
       "</table>\n",
       "<p>202 rows × 2 columns</p>\n",
       "</div>"
      ],
      "text/plain": [
       "                                                  Data  Target\n",
       "0                                   Good , works fine.       1\n",
       "1                 For the price this was a great deal.       1\n",
       "2                                    Great price, too!       1\n",
       "3        If there is a wind, it is completely useless.       0\n",
       "4        Yes it's shiny on front side - and I love it!       1\n",
       "5                                       Does Not Work.       0\n",
       "6    At first I thought I was grtting a good deal a...       0\n",
       "7     The reception through this headset is excellent.       1\n",
       "8                           2 thumbs up to this seller       1\n",
       "9    I have a Verizon LG phone and they work well t...       1\n",
       "10        Improper description.... I had to return it.       0\n",
       "11                 #1 It Works - #2 It is Comfortable.       1\n",
       "12                  Battery charge-life is quite long.       1\n",
       "13            The Jabra EarGels fit my ears very well.       1\n",
       "14                                Battery has no life.       0\n",
       "15   I checked everywhere and there is no feature f...       0\n",
       "16                    Product is exactly as described.       1\n",
       "17      Gets a signal when other Verizon phones won't.       1\n",
       "18   Gets a signal when other Verizon phones would ...       1\n",
       "19     Gets a signal when other Verizon phones do not.       1\n",
       "20                                 Doesn't do the job.       0\n",
       "21                               I would recommend it.       1\n",
       "22         Plan on ordering from them again and again.       1\n",
       "23   That being said, for a phone, the camera is ve...       1\n",
       "24   I have been very satisfied with this cell phon...       1\n",
       "25   They keep getting better and better (this is m...       1\n",
       "26                      Awkward to use and unreliable.       0\n",
       "27              The shipping time was also very quick!       1\n",
       "28                         Not as good as I had hoped.       0\n",
       "29                                         Good case!.       1\n",
       "..                                                 ...     ...\n",
       "172  I plugged it in only to find out not a darn th...       0\n",
       "173                                 Excellent product.       1\n",
       "174                        Earbud piece breaks easily.       0\n",
       "175                                     Lousy product.       0\n",
       "176  This phone tries very hard to do everything bu...       0\n",
       "177  It is the best charger I have seen on the mark...       1\n",
       "178                                  SWEETEST PHONE!!!       1\n",
       "179             :-)Oh, the charger seems to work fine.       1\n",
       "180  It fits so securely that the ear hook does not...       1\n",
       "181                                 Not enough volume.       0\n",
       "182                Echo Problem....Very unsatisfactory       0\n",
       "183  you could only take 2 videos at a time and the...       0\n",
       "184                            don't waste your money.       0\n",
       "185  I am going to have to be the first to negative...       0\n",
       "186  Adapter does not provide enough charging current.       0\n",
       "187  There was so much hype over this phone that I ...       0\n",
       "188  You also cannot take pictures with it in the c...       0\n",
       "189                            Phone falls out easily.       0\n",
       "190  It didn't work, people can not hear me when I ...       0\n",
       "191  The text messaging feature is really tricky to...       0\n",
       "192  I'm really disappointed all I have now is a ch...       0\n",
       "193                                Painful on the ear.       0\n",
       "194                   Lasted one day and then blew up.       0\n",
       "195                                      disappointed.       0\n",
       "196                              Kind of flops around.       0\n",
       "197  The screen does get smudged easily because it ...       0\n",
       "198  What a piece of junk.. I lose more calls on th...       0\n",
       "199                       Item Does Not Match Picture.       0\n",
       "200  The only thing that disappoint me is the infra...       0\n",
       "201  You can not answer calls with the unit, never ...       0\n",
       "\n",
       "[202 rows x 2 columns]"
      ]
     },
     "execution_count": 3,
     "metadata": {},
     "output_type": "execute_result"
    }
   ],
   "source": [
    "df_test = pd.read_csv(r'C:\\Users\\Atin\\Desktop\\LIME_Seminar_Paper\\Dataset\\Sentiment -Amazon,IMDB,Yelp\\Amazon_test_200.csv')\n",
    "df_test"
   ]
  },
  {
   "cell_type": "code",
   "execution_count": 4,
   "metadata": {},
   "outputs": [
    {
     "data": {
      "text/plain": [
       "0                                     Good , works fine.\n",
       "1                   For the price this was a great deal.\n",
       "2                                      Great price, too!\n",
       "3          If there is a wind, it is completely useless.\n",
       "4          Yes it's shiny on front side - and I love it!\n",
       "5                                         Does Not Work.\n",
       "6      At first I thought I was grtting a good deal a...\n",
       "7       The reception through this headset is excellent.\n",
       "8                             2 thumbs up to this seller\n",
       "9      I have a Verizon LG phone and they work well t...\n",
       "10          Improper description.... I had to return it.\n",
       "11                   #1 It Works - #2 It is Comfortable.\n",
       "12                    Battery charge-life is quite long.\n",
       "13              The Jabra EarGels fit my ears very well.\n",
       "14                                  Battery has no life.\n",
       "15     I checked everywhere and there is no feature f...\n",
       "16                      Product is exactly as described.\n",
       "17        Gets a signal when other Verizon phones won't.\n",
       "18     Gets a signal when other Verizon phones would ...\n",
       "19       Gets a signal when other Verizon phones do not.\n",
       "20                                   Doesn't do the job.\n",
       "21                                 I would recommend it.\n",
       "22           Plan on ordering from them again and again.\n",
       "23     That being said, for a phone, the camera is ve...\n",
       "24     I have been very satisfied with this cell phon...\n",
       "25     They keep getting better and better (this is m...\n",
       "26                        Awkward to use and unreliable.\n",
       "27                The shipping time was also very quick!\n",
       "28                           Not as good as I had hoped.\n",
       "29                                           Good case!.\n",
       "                             ...                        \n",
       "172    I plugged it in only to find out not a darn th...\n",
       "173                                   Excellent product.\n",
       "174                          Earbud piece breaks easily.\n",
       "175                                       Lousy product.\n",
       "176    This phone tries very hard to do everything bu...\n",
       "177    It is the best charger I have seen on the mark...\n",
       "178                                    SWEETEST PHONE!!!\n",
       "179               :-)Oh, the charger seems to work fine.\n",
       "180    It fits so securely that the ear hook does not...\n",
       "181                                   Not enough volume.\n",
       "182                  Echo Problem....Very unsatisfactory\n",
       "183    you could only take 2 videos at a time and the...\n",
       "184                              don't waste your money.\n",
       "185    I am going to have to be the first to negative...\n",
       "186    Adapter does not provide enough charging current.\n",
       "187    There was so much hype over this phone that I ...\n",
       "188    You also cannot take pictures with it in the c...\n",
       "189                              Phone falls out easily.\n",
       "190    It didn't work, people can not hear me when I ...\n",
       "191    The text messaging feature is really tricky to...\n",
       "192    I'm really disappointed all I have now is a ch...\n",
       "193                                  Painful on the ear.\n",
       "194                     Lasted one day and then blew up.\n",
       "195                                        disappointed.\n",
       "196                                Kind of flops around.\n",
       "197    The screen does get smudged easily because it ...\n",
       "198    What a piece of junk.. I lose more calls on th...\n",
       "199                         Item Does Not Match Picture.\n",
       "200    The only thing that disappoint me is the infra...\n",
       "201    You can not answer calls with the unit, never ...\n",
       "Name: Data, Length: 202, dtype: object"
      ]
     },
     "execution_count": 4,
     "metadata": {},
     "output_type": "execute_result"
    }
   ],
   "source": [
    "df_test.Data"
   ]
  },
  {
   "cell_type": "code",
   "execution_count": 5,
   "metadata": {},
   "outputs": [
    {
     "name": "stdout",
     "output_type": "stream",
     "text": [
      "<class 'pandas.core.series.Series'>\n",
      "[0 1 1 0 1 0 0 1 0 0 1 1 0 1 0 1 0 1 1 0 0 1 0 1 0 1 1 0 0 0 0 1 0 0 1 0 1\n",
      " 0 1 0 1 0 1 0 1 1 0 0 1 0 0 1 1 1 1 1 0 1 1 0 0 1 1 0 0 0 0 1 1 1 0 0 1 1\n",
      " 1 1 0 1 1 0 1 0 1 0 0 1 1 0 1 1 0 1 1 0 0 1 0 0 1 0 1 0 1 1 0 1 0 1 0 0 1\n",
      " 1 1 1 1 1 0 1 1 1 1 0 1 0 1 1 0 0 1 0 1 1 1 1 0 0 1 1 0 1 0 0 0 0 0 1 0 0\n",
      " 0 0 0 0 1 1 0 1 1 1 1 1 0 1 0 1 0 1 0 1 0 0 1 0 0 1 1 1 1 0 0 0 0 0 1 0 0\n",
      " 1 0 1 0 0 0 1 1 0 0 1 1 0 0 0 1 1 0 1 0 1 1 1 1 0 0 0 1 1 1 1 1 0 0 1 0 0\n",
      " 1 0 0 1 1 0 0 0 0 0 0 1 1 1 1 1 1 0 0 0 0 0 0 1 1 1 0 1 1 1 1 1 0 0 0 1 1\n",
      " 1 1 1 1 0 0 1 0 1 0 1 0 1 0 1 0 1 0 1 1 1 1 1 0 1 1 1 0 0 0 1 1 0 1 0 1 1\n",
      " 1 1 0 0 0 1 1 1 1 1 1 0 0 0 1 0 1 1 0 0 1 1 0 1 1 0 0 1 0 1 0 0 0 0 1 1 1\n",
      " 1 1 0 0 0 0 0 1 0 0 1 0 1 0 1 1 0 0 1 1 0 0 0 0 0 0 1 1 0 1 0 1 1 0 1 1 1\n",
      " 0 1 1 0 0 0 1 0 1 0 1 1 0 1 1 0 0 1 1 1 1 0 1 1 1 1 0 1 1 0 0 1 1 1 0 1 0\n",
      " 1 1 0 0 1 1 0 0 1 1 0 0 0 1 0 0 1 0 1 1 0 1 1 1 1 0 1 1 0 0 1 0 0 0 0 0 1\n",
      " 1 1 0 1 1 0 1 1 1 0 0 0 1 1 1 0 0 1 0 0 0 1 0 0 0 1 1 0 0 1 1 1 0 0 1 0 1\n",
      " 0 1 1 1 0 0 0 0 0 1 1 1 1 0 0 1 0 0 1 1 1 0 0 1 0 0 0 1 0 1 0 1 1 1 1 1 1\n",
      " 1 0 0 1 1 1 1 0 0 1 0 1 1 0 0 0 1 0 1 1 1 0 1 0 0 0 0 1 0 0 0 1 1 1 1 1 0\n",
      " 0 1 1 1 0 0 0 1 0 0 0 0 1 1 0 0 1 0 1 1 0 0 0 1 0 1 0 0 1 1 0 1 0 0 0 0 1\n",
      " 1 1 1 0 0 1 1 1 1 0 1 1 0 0 1 0 0 1 0 1 1 1 0 0 0 0 0 1 0 0 1 0 1 0 0 0 0\n",
      " 1 0 1 1 0 1 1 1 0 1 0 0 1 0 1 0 0 1 1 0 1 0 1 0 0 0 1 0 1 0 0 0 1 1 1 1 0\n",
      " 1 0 1 1 0 0 0 1 0 0 0 0 1 1 0 0 0 1 0 1 0 0 0 1 0 1 1 0 0 0 1 0 1 1 0 1 1\n",
      " 1 0 1 0 1 0 1 0 0 0 1 0 0 1 0 1 0 1 1 1 0 1 1 1 1 1 0 1 0 1 1 0 1 1 1 1 1\n",
      " 1 0 0 0 0 1 0 1 0 1 1 0 1 1 0 0 1 0 1 1 0 1 1 0 0 0 0 0 1 1 0 0 0 1 1 1 1\n",
      " 1 1 0 0 0 0 0 0 0 0 1 1 0 0 1 1 1 0 1 1 1 0 0]\n",
      "[0 1 1 0 1 0 0 1 0 0 1 1 0 1 0 1 0 1 1 0 0 1 0 1 0 1 1 0 0 0 0 1 0 0 1 0 1\n",
      " 0 1 0 1 0 1 0 1 1 0 0 1 0 0 1 1 1 1 1 0 1 1 0 0 1 1 0 0 0 0 1 1 1 0 0 1 1\n",
      " 1 1 0 1 1 0 1 0 1 0 0 1 1 0 1 1 0 1 1 0 0 1 0 0 1 0 1 0 1 1 0 1 0 1 0 0 1\n",
      " 1 1 1 1 1 0 1 1 1 1 0 1 0 1 1 0 0 1 0 1 1 1 1 0 0 1 1 0 1 0 0 0 0 0 1 0 0\n",
      " 0 0 0 0 1 1 0 1 1 1 1 1 0 1 0 1 0 1 0 1 0 0 1 0 0 1 1 1 1 0 0 0 0 0 1 0 0\n",
      " 1 0 1 0 0 0 1 1 0 0 1 1 0 0 0 1 1 0 1 0 1 1 1 1 0 0 0 1 1 1 1 1 0 0 1 0 0\n",
      " 1 0 0 1 1 0 0 0 0 0 0 1 1 1 1 1 1 0 0 0 0 0 0 1 1 1 0 1 1 1 1 1 0 0 0 1 1\n",
      " 1 1 1 1 0 0 1 0 1 0 1 0 1 0 1 0 1 0 1 1 1 1 1 0 1 1 1 0 0 0 1 1 0 1 0 1 1\n",
      " 1 1 0 0 0 1 1 1 1 1 1 0 0 0 1 0 1 1 0 0 1 1 0 1 1 0 0 1 0 1 0 0 0 0 1 1 1\n",
      " 1 1 0 0 0 0 0 1 0 0 1 0 1 0 1 1 0 0 1 1 0 0 0 0 0 0 1 1 0 1 0 1 1 0 1 1 1\n",
      " 0 1 1 0 0 0 1 0 1 0 1 1 0 1 1 0 0 1 1 1 1 0 1 1 1 1 0 1 1 0 0 1 1 1 0 1 0\n",
      " 1 1 0 0 1 1 0 0 1 1 0 0 0 1 0 0 1 0 1 1 0 1 1 1 1 0 1 1 0 0 1 0 0 0 0 0 1\n",
      " 1 1 0 1 1 0 1 1 1 0 0 0 1 1 1 0 0 1 0 0 0 1 0 0 0 1 1 0 0 1 1 1 0 0 1 0 1\n",
      " 0 1 1 1 0 0 0 0 0 1 1 1 1 0 0 1 0 0 1 1 1 0 0 1 0 0 0 1 0 1 0 1 1 1 1 1 1\n",
      " 1 0 0 1 1 1 1 0 0 1 0 1 1 0 0 0 1 0 1 1 1 0 1 0 0 0 0 1 0 0 0 1 1 1 1 1 0\n",
      " 0 1 1 1 0 0 0 1 0 0 0 0 1 1 0 0 1 0 1 1 0 0 0 1 0 1 0 0 1 1 0 1 0 0 0 0 1\n",
      " 1 1 1 0 0 1 1 1 1 0 1 1 0 0 1 0 0 1 0 1 1 1 0 0 0 0 0 1 0 0 1 0 1 0 0 0 0\n",
      " 1 0 1 1 0 1 1 1 0 1 0 0 1 0 1 0 0 1 1 0 1 0 1 0 0 0 1 0 1 0 0 0 1 1 1 1 0\n",
      " 1 0 1 1 0 0 0 1 0 0 0 0 1 1 0 0 0 1 0 1 0 0 0 1 0 1 1 0 0 0 1 0 1 1 0 1 1\n",
      " 1 0 1 0 1 0 1 0 0 0 1 0 0 1 0 1 0 1 1 1 0 1 1 1 1 1 0 1 0 1 1 0 1 1 1 1 1\n",
      " 1 0 0 0 0 1 0 1 0 1 1 0 1 1 0 0 1 0 1 1 0 1 1 0 0 0 0 0 1 1 0 0 0 1 1 1 1\n",
      " 1 1 0 0 0 0 0 0 0 0 1 1 0 0 1 1 1 0 1 1 1 0 0]\n"
     ]
    }
   ],
   "source": [
    "y_train = df_train['Target']\n",
    "print(type(y_train))\n",
    "print(np.asarray(y_train))\n",
    "y_train = np.asarray(y_train)\n",
    "print(y_train)"
   ]
  },
  {
   "cell_type": "code",
   "execution_count": 6,
   "metadata": {},
   "outputs": [
    {
     "name": "stdout",
     "output_type": "stream",
     "text": [
      "<class 'pandas.core.series.Series'>\n",
      "[1 1 1 0 1 0 0 1 1 1 0 1 1 1 0 0 1 1 1 1 0 1 1 1 1 1 0 1 0 1 0 1 0 0 0 0 0\n",
      " 0 0 0 0 0 0 0 0 0 0 0 0 0 0 0 1 1 1 0 1 0 0 1 0 0 0 0 1 1 1 1 1 1 0 1 1 1\n",
      " 1 1 1 0 1 1 0 1 0 0 1 0 1 0 0 1 0 1 0 1 1 0 0 1 1 0 0 1 0 0 1 1 0 0 1 0 1\n",
      " 1 1 1 0 0 0 0 0 1 1 0 1 0 1 1 1 1 0 1 0 0 0 0 0 0 1 0 0 1 1 1 1 1 0 0 0 1\n",
      " 1 1 1 0 1 0 1 0 1 0 1 1 1 0 1 1 1 1 1 0 0 1 0 0 0 1 0 0 0 1 1 1 1 0 0 0 0\n",
      " 0 0 0 0 0 0 0 0 0 0 0 0 0 0 0 0 0]\n",
      "[1 1 1 0 1 0 0 1 1 1 0 1 1 1 0 0 1 1 1 1 0 1 1 1 1 1 0 1 0 1 0 1 0 0 0 0 0\n",
      " 0 0 0 0 0 0 0 0 0 0 0 0 0 0 0 1 1 1 0 1 0 0 1 0 0 0 0 1 1 1 1 1 1 0 1 1 1\n",
      " 1 1 1 0 1 1 0 1 0 0 1 0 1 0 0 1 0 1 0 1 1 0 0 1 1 0 0 1 0 0 1 1 0 0 1 0 1\n",
      " 1 1 1 0 0 0 0 0 1 1 0 1 0 1 1 1 1 0 1 0 0 0 0 0 0 1 0 0 1 1 1 1 1 0 0 0 1\n",
      " 1 1 1 0 1 0 1 0 1 0 1 1 1 0 1 1 1 1 1 0 0 1 0 0 0 1 0 0 0 1 1 1 1 0 0 0 0\n",
      " 0 0 0 0 0 0 0 0 0 0 0 0 0 0 0 0 0]\n"
     ]
    }
   ],
   "source": [
    "y_test = df_test['Target']\n",
    "print(type(y_test))\n",
    "print(np.asarray(y_test))\n",
    "y_test = np.asarray(y_test)\n",
    "print(y_test)"
   ]
  },
  {
   "cell_type": "code",
   "execution_count": 7,
   "metadata": {},
   "outputs": [],
   "source": [
    "vectorizer = TfidfVectorizer(lowercase=False)\n",
    "train_vectors = vectorizer.fit_transform(df_train.Data)\n",
    "test_vectors = vectorizer.transform(df_test.Data)"
   ]
  },
  {
   "cell_type": "code",
   "execution_count": 8,
   "metadata": {},
   "outputs": [
    {
     "data": {
      "text/plain": [
       "<202x1938 sparse matrix of type '<class 'numpy.float64'>'\n",
       "\twith 1525 stored elements in Compressed Sparse Row format>"
      ]
     },
     "execution_count": 8,
     "metadata": {},
     "output_type": "execute_result"
    }
   ],
   "source": [
    "test_vectors"
   ]
  },
  {
   "cell_type": "code",
   "execution_count": 9,
   "metadata": {},
   "outputs": [],
   "source": [
    "from sklearn.neighbors import NearestNeighbors"
   ]
  },
  {
   "cell_type": "code",
   "execution_count": 10,
   "metadata": {},
   "outputs": [],
   "source": [
    "nbrs = NearestNeighbors(n_neighbors=5, algorithm='auto').fit(test_vectors)"
   ]
  },
  {
   "cell_type": "code",
   "execution_count": 11,
   "metadata": {},
   "outputs": [
    {
     "name": "stdout",
     "output_type": "stream",
     "text": [
      "[[0.         1.0459904  1.05413376 1.1033116  1.1033116 ]\n",
      " [0.         1.18873769 1.20772442 1.2314646  1.24836017]\n",
      " [0.         1.04866891 1.14469557 1.18672505 1.19300723]\n",
      " ...\n",
      " [0.         0.68666935 1.17324092 1.19925235 1.21847166]\n",
      " [0.         1.04830706 1.12224    1.14646693 1.21475828]\n",
      " [0.         1.25375428 1.25976013 1.27419595 1.29377712]]\n",
      "[[  0  29  72 112  76]\n",
      " [  1 163   6  94   2]\n",
      " [  2  98 157  94 159]\n",
      " ...\n",
      " [199   5 135 181  80]\n",
      " [200  84  43 172 120]\n",
      " [201 136 167 188 198]]\n"
     ]
    }
   ],
   "source": [
    "distances, indices = nbrs.kneighbors(test_vectors)\n",
    "print(distances)\n",
    "print(indices)\n"
   ]
  },
  {
   "cell_type": "code",
   "execution_count": 12,
   "metadata": {},
   "outputs": [
    {
     "data": {
      "text/plain": [
       "matrix([[0., 0., 0., ..., 0., 0., 0.],\n",
       "        [0., 0., 0., ..., 0., 0., 0.],\n",
       "        [0., 0., 0., ..., 0., 0., 0.],\n",
       "        [0., 0., 0., ..., 0., 0., 0.],\n",
       "        [0., 0., 0., ..., 0., 0., 0.]])"
      ]
     },
     "execution_count": 12,
     "metadata": {},
     "output_type": "execute_result"
    }
   ],
   "source": [
    "test_vectors[indices[0]].todense()"
   ]
  },
  {
   "cell_type": "code",
   "execution_count": 13,
   "metadata": {},
   "outputs": [
    {
     "data": {
      "text/plain": [
       "array([0.        , 1.0459904 , 1.05413376, 1.1033116 , 1.1033116 ])"
      ]
     },
     "execution_count": 13,
     "metadata": {},
     "output_type": "execute_result"
    }
   ],
   "source": [
    "distances[0]"
   ]
  },
  {
   "cell_type": "code",
   "execution_count": 14,
   "metadata": {},
   "outputs": [],
   "source": [
    "import scipy\n",
    "a = scipy.sparse.csr_matrix([[1, 0, 0, 0], [0, 0, 10, 11], [0, 0, 0, 99]])"
   ]
  },
  {
   "cell_type": "code",
   "execution_count": 15,
   "metadata": {},
   "outputs": [
    {
     "data": {
      "text/plain": [
       "matrix([[ 0,  0,  0, 99]], dtype=int32)"
      ]
     },
     "execution_count": 15,
     "metadata": {},
     "output_type": "execute_result"
    }
   ],
   "source": [
    "a[2].todense()"
   ]
  },
  {
   "cell_type": "code",
   "execution_count": 16,
   "metadata": {},
   "outputs": [
    {
     "data": {
      "text/plain": [
       "1938"
      ]
     },
     "execution_count": 16,
     "metadata": {},
     "output_type": "execute_result"
    }
   ],
   "source": [
    "len(vectorizer.get_feature_names())"
   ]
  },
  {
   "cell_type": "code",
   "execution_count": 17,
   "metadata": {},
   "outputs": [
    {
     "data": {
      "text/plain": [
       "array([[0.        , 1.0459904 , 1.05413376, 1.1033116 , 1.1033116 ],\n",
       "       [0.        , 1.18873769, 1.20772442, 1.2314646 , 1.24836017],\n",
       "       [0.        , 1.04866891, 1.14469557, 1.18672505, 1.19300723],\n",
       "       ...,\n",
       "       [0.        , 0.68666935, 1.17324092, 1.19925235, 1.21847166],\n",
       "       [0.        , 1.04830706, 1.12224   , 1.14646693, 1.21475828],\n",
       "       [0.        , 1.25375428, 1.25976013, 1.27419595, 1.29377712]])"
      ]
     },
     "execution_count": 17,
     "metadata": {},
     "output_type": "execute_result"
    }
   ],
   "source": [
    "distances"
   ]
  },
  {
   "cell_type": "code",
   "execution_count": 18,
   "metadata": {},
   "outputs": [
    {
     "data": {
      "text/plain": [
       "0       Good , works fine.\n",
       "29             Good case!.\n",
       "72             Works fine.\n",
       "112    Good show, Samsung.\n",
       "76           Good Quality.\n",
       "Name: Data, dtype: object"
      ]
     },
     "execution_count": 18,
     "metadata": {},
     "output_type": "execute_result"
    }
   ],
   "source": [
    "df_test.Data[indices[0]]"
   ]
  },
  {
   "cell_type": "code",
   "execution_count": null,
   "metadata": {},
   "outputs": [],
   "source": []
  },
  {
   "cell_type": "code",
   "execution_count": 19,
   "metadata": {},
   "outputs": [
    {
     "data": {
      "text/plain": [
       "RandomForestClassifier(bootstrap=True, class_weight=None, criterion='gini',\n",
       "            max_depth=None, max_features='auto', max_leaf_nodes=None,\n",
       "            min_impurity_decrease=0.0, min_impurity_split=None,\n",
       "            min_samples_leaf=1, min_samples_split=2,\n",
       "            min_weight_fraction_leaf=0.0, n_estimators=500, n_jobs=None,\n",
       "            oob_score=False, random_state=None, verbose=0,\n",
       "            warm_start=False)"
      ]
     },
     "execution_count": 19,
     "metadata": {},
     "output_type": "execute_result"
    }
   ],
   "source": [
    "rf = RandomForestClassifier(n_estimators=500)\n",
    "rf"
   ]
  },
  {
   "cell_type": "code",
   "execution_count": 20,
   "metadata": {},
   "outputs": [
    {
     "data": {
      "text/plain": [
       "RandomForestClassifier(bootstrap=True, class_weight=None, criterion='gini',\n",
       "            max_depth=None, max_features='auto', max_leaf_nodes=None,\n",
       "            min_impurity_decrease=0.0, min_impurity_split=None,\n",
       "            min_samples_leaf=1, min_samples_split=2,\n",
       "            min_weight_fraction_leaf=0.0, n_estimators=500, n_jobs=None,\n",
       "            oob_score=False, random_state=None, verbose=0,\n",
       "            warm_start=False)"
      ]
     },
     "execution_count": 20,
     "metadata": {},
     "output_type": "execute_result"
    }
   ],
   "source": [
    "rf.fit(train_vectors, y_train)\n"
   ]
  },
  {
   "cell_type": "code",
   "execution_count": 21,
   "metadata": {},
   "outputs": [
    {
     "data": {
      "text/plain": [
       "array([1, 1, 1, 1, 1, 0, 0, 1, 0, 1, 0, 1, 0, 1, 1, 1, 1, 0, 0, 0, 0, 1,\n",
       "       1, 1, 1, 1, 1, 0, 0, 1, 0, 1, 0, 0, 0, 1, 0, 0, 0, 0, 0, 0, 0, 0,\n",
       "       0, 0, 0, 0, 1, 0, 1, 1, 1, 1, 0, 1, 0, 0, 0, 1, 0, 0, 0, 0, 1, 1,\n",
       "       0, 1, 1, 1, 0, 1, 1, 1, 1, 1, 1, 0, 1, 1, 0, 0, 0, 0, 0, 0, 0, 1,\n",
       "       0, 1, 1, 0, 1, 0, 1, 0, 1, 0, 1, 0, 0, 0, 0, 1, 1, 1, 0, 0, 0, 0,\n",
       "       0, 1, 1, 0, 0, 0, 0, 0, 0, 0, 1, 0, 0, 0, 1, 1, 1, 0, 1, 1, 0, 0,\n",
       "       0, 0, 0, 0, 0, 1, 0, 1, 0, 0, 1, 1, 1, 0, 0, 0, 1, 1, 0, 0, 1, 0,\n",
       "       0, 0, 1, 1, 0, 1, 1, 0, 1, 1, 0, 1, 0, 0, 0, 0, 0, 0, 0, 1, 0, 0,\n",
       "       1, 1, 0, 0, 0, 0, 0, 0, 0, 0, 0, 1, 0, 1, 0, 1, 0, 1, 1, 0, 0, 0,\n",
       "       0, 0, 0, 0], dtype=int64)"
      ]
     },
     "execution_count": 21,
     "metadata": {},
     "output_type": "execute_result"
    }
   ],
   "source": [
    "pred = rf.predict(test_vectors)\n",
    "pred"
   ]
  },
  {
   "cell_type": "code",
   "execution_count": 22,
   "metadata": {},
   "outputs": [
    {
     "data": {
      "text/plain": [
       "array([1, 1, 1, 1, 1], dtype=int64)"
      ]
     },
     "execution_count": 22,
     "metadata": {},
     "output_type": "execute_result"
    }
   ],
   "source": [
    "pred_n = rf.predict(test_vectors[indices[0]])\n",
    "pred_n"
   ]
  },
  {
   "cell_type": "code",
   "execution_count": 23,
   "metadata": {},
   "outputs": [
    {
     "data": {
      "text/plain": [
       "array([[0.076, 0.924],\n",
       "       [0.158, 0.842],\n",
       "       [0.228, 0.772],\n",
       "       [0.198, 0.802],\n",
       "       [0.296, 0.704]])"
      ]
     },
     "execution_count": 23,
     "metadata": {},
     "output_type": "execute_result"
    }
   ],
   "source": [
    "pred_prob_n = rf.predict_proba(test_vectors[indices[0]])\n",
    "pred_prob_n"
   ]
  },
  {
   "cell_type": "code",
   "execution_count": 24,
   "metadata": {},
   "outputs": [
    {
     "data": {
      "text/plain": [
       "0.6628571428571428"
      ]
     },
     "execution_count": 24,
     "metadata": {},
     "output_type": "execute_result"
    }
   ],
   "source": [
    "sklearn.metrics.f1_score(y_test, pred, average='binary')"
   ]
  },
  {
   "cell_type": "code",
   "execution_count": 25,
   "metadata": {},
   "outputs": [],
   "source": [
    "T =np.asarray(test_vectors[indices[0]].todense())"
   ]
  },
  {
   "cell_type": "code",
   "execution_count": 26,
   "metadata": {},
   "outputs": [
    {
     "data": {
      "text/plain": [
       "array([[0., 0., 0., ..., 0., 0., 0.],\n",
       "       [0., 0., 0., ..., 0., 0., 0.],\n",
       "       [0., 0., 0., ..., 0., 0., 0.],\n",
       "       [0., 0., 0., ..., 0., 0., 0.],\n",
       "       [0., 0., 0., ..., 0., 0., 0.]])"
      ]
     },
     "execution_count": 26,
     "metadata": {},
     "output_type": "execute_result"
    }
   ],
   "source": [
    "T"
   ]
  },
  {
   "cell_type": "code",
   "execution_count": 27,
   "metadata": {},
   "outputs": [
    {
     "data": {
      "text/plain": [
       "numpy.ndarray"
      ]
     },
     "execution_count": 27,
     "metadata": {},
     "output_type": "execute_result"
    }
   ],
   "source": [
    "type(T)"
   ]
  },
  {
   "cell_type": "code",
   "execution_count": 28,
   "metadata": {},
   "outputs": [],
   "source": [
    "doc = 0\n",
    "feature_index = test_vectors[doc,:].nonzero()\n",
    "tfidf_scores = zip(feature_index, [test_vectors[doc, x] for x in feature_index])"
   ]
  },
  {
   "cell_type": "code",
   "execution_count": 29,
   "metadata": {},
   "outputs": [
    {
     "data": {
      "text/plain": [
       "(array([0, 0, 0]), array([ 189,  954, 1920]))"
      ]
     },
     "execution_count": 29,
     "metadata": {},
     "output_type": "execute_result"
    }
   ],
   "source": [
    "feature_index"
   ]
  },
  {
   "cell_type": "code",
   "execution_count": 30,
   "metadata": {},
   "outputs": [
    {
     "data": {
      "text/plain": [
       "'works'"
      ]
     },
     "execution_count": 30,
     "metadata": {},
     "output_type": "execute_result"
    }
   ],
   "source": [
    "vectorizer.get_feature_names()[1920]"
   ]
  },
  {
   "cell_type": "code",
   "execution_count": 31,
   "metadata": {},
   "outputs": [],
   "source": [
    "temp_text = vectorizer.transform([\"Good , works fine.\"])"
   ]
  },
  {
   "cell_type": "code",
   "execution_count": 32,
   "metadata": {},
   "outputs": [
    {
     "data": {
      "text/plain": [
       "(array([0, 0, 0]), array([1920,  954,  189]))"
      ]
     },
     "execution_count": 32,
     "metadata": {},
     "output_type": "execute_result"
    }
   ],
   "source": [
    "temp_text[doc,:].nonzero()"
   ]
  },
  {
   "cell_type": "code",
   "execution_count": 33,
   "metadata": {},
   "outputs": [
    {
     "name": "stdout",
     "output_type": "stream",
     "text": [
      "(array([0, 0, 0]), <1x3 sparse matrix of type '<class 'numpy.float64'>'\n",
      "\twith 0 stored elements in Compressed Sparse Row format>)\n",
      "(array([ 189,  954, 1920]), <1x3 sparse matrix of type '<class 'numpy.float64'>'\n",
      "\twith 3 stored elements in Compressed Sparse Row format>)\n"
     ]
    }
   ],
   "source": [
    "for i, v in enumerate(tfidf_scores):\n",
    "    print(v)"
   ]
  },
  {
   "cell_type": "code",
   "execution_count": 35,
   "metadata": {},
   "outputs": [],
   "source": [
    "for w, s in [(vectorizer.get_feature_names()[i], s) for (i, s) in tfidf_scores]:\n",
    "  print(w, s)"
   ]
  },
  {
   "cell_type": "code",
   "execution_count": 36,
   "metadata": {},
   "outputs": [
    {
     "data": {
      "text/plain": [
       "['10',\n",
       " '100',\n",
       " '11',\n",
       " '12',\n",
       " '13',\n",
       " '15',\n",
       " '15g',\n",
       " '18',\n",
       " '20',\n",
       " '2000',\n",
       " '2160',\n",
       " '24',\n",
       " '2MP',\n",
       " '325',\n",
       " '350',\n",
       " '375',\n",
       " '3o',\n",
       " '42',\n",
       " '45',\n",
       " '4s',\n",
       " '50',\n",
       " '5020',\n",
       " '510',\n",
       " '5320',\n",
       " '680',\n",
       " '700w',\n",
       " '8530',\n",
       " 'AC',\n",
       " 'AFTER',\n",
       " 'AFter',\n",
       " 'AGGRAVATING',\n",
       " 'AMAZON',\n",
       " 'ARE',\n",
       " 'ARGUING',\n",
       " 'AT',\n",
       " 'AWESOME',\n",
       " 'AWFUL',\n",
       " 'Abound',\n",
       " 'Absolutel',\n",
       " 'Absolutely',\n",
       " 'AccessoryOne',\n",
       " 'ActiveSync',\n",
       " 'After',\n",
       " 'All',\n",
       " 'Also',\n",
       " 'Always',\n",
       " 'Amazon',\n",
       " 'An',\n",
       " 'And',\n",
       " 'Angeles',\n",
       " 'Another',\n",
       " 'Ant',\n",
       " 'Any',\n",
       " 'Appears',\n",
       " 'Arrived',\n",
       " 'As',\n",
       " 'Asia',\n",
       " 'Att',\n",
       " 'Audio',\n",
       " 'Authentic',\n",
       " 'Avoid',\n",
       " 'Awesome',\n",
       " 'Awsome',\n",
       " 'BE',\n",
       " 'BEING',\n",
       " 'BEST',\n",
       " 'BMW',\n",
       " 'BROKE',\n",
       " 'BT',\n",
       " 'BT250v',\n",
       " 'BT50',\n",
       " 'BUY',\n",
       " 'BUYIT',\n",
       " 'Bad',\n",
       " 'Basically',\n",
       " 'Battery',\n",
       " 'Be',\n",
       " 'Because',\n",
       " 'Best',\n",
       " 'Better',\n",
       " 'Beware',\n",
       " 'Big',\n",
       " 'Blackberry',\n",
       " 'Blue',\n",
       " 'BlueAnt',\n",
       " 'Bluetooth',\n",
       " 'Bottom',\n",
       " 'Bought',\n",
       " 'Boy',\n",
       " 'But',\n",
       " 'Buy',\n",
       " 'Buyer',\n",
       " 'CA',\n",
       " 'CALLS',\n",
       " 'CBR',\n",
       " 'CDs',\n",
       " 'CRAP',\n",
       " 'Calls',\n",
       " 'Can',\n",
       " 'Cant',\n",
       " 'Car',\n",
       " 'Careful',\n",
       " 'Case',\n",
       " 'Cell',\n",
       " 'Cheap',\n",
       " 'China',\n",
       " 'Chinese',\n",
       " 'Choice',\n",
       " 'Cingular',\n",
       " 'Clear',\n",
       " 'Comes',\n",
       " 'Comfort',\n",
       " 'Comfortable',\n",
       " 'Construction',\n",
       " 'Could',\n",
       " 'Couldn',\n",
       " 'Crisp',\n",
       " 'Cumbersome',\n",
       " 'Curve',\n",
       " 'Customer',\n",
       " 'D807',\n",
       " 'DAYS',\n",
       " 'DEAD',\n",
       " 'DISAPPOINTED',\n",
       " 'DNA',\n",
       " 'DO',\n",
       " 'DROPPED',\n",
       " 'Defective',\n",
       " 'Definitely',\n",
       " 'Design',\n",
       " 'Development',\n",
       " 'Device',\n",
       " 'Disapointing',\n",
       " 'Disappointed',\n",
       " 'Disappointing',\n",
       " 'Disappointment',\n",
       " 'Display',\n",
       " 'Displeased',\n",
       " 'Dissapointing',\n",
       " 'Do',\n",
       " 'Does',\n",
       " 'Doesn',\n",
       " 'Don',\n",
       " 'Dont',\n",
       " 'Down',\n",
       " 'Droid',\n",
       " 'Dropped',\n",
       " 'Due',\n",
       " 'During',\n",
       " 'E2',\n",
       " 'E715',\n",
       " 'EASY',\n",
       " 'EVER',\n",
       " 'EVERYONE',\n",
       " 'EXCELLENT',\n",
       " 'EXTREMELY',\n",
       " 'Ear',\n",
       " 'Earpiece',\n",
       " 'Earset',\n",
       " 'Easy',\n",
       " 'EnV',\n",
       " 'Era',\n",
       " 'Ericsson',\n",
       " 'Essentially',\n",
       " 'Europe',\n",
       " 'Even',\n",
       " 'Ever',\n",
       " 'Everything',\n",
       " 'Exactly',\n",
       " 'Excelent',\n",
       " 'Excellent',\n",
       " 'FM',\n",
       " 'FOOLED',\n",
       " 'FOR',\n",
       " 'FOREVER',\n",
       " 'Fall',\n",
       " 'Fantastic',\n",
       " 'Far',\n",
       " 'Finally',\n",
       " 'Fire',\n",
       " 'First',\n",
       " 'Five',\n",
       " 'Flaw',\n",
       " 'For',\n",
       " 'Forgeries',\n",
       " 'Free',\n",
       " 'Freezes',\n",
       " 'GX2',\n",
       " 'Gets',\n",
       " 'Good',\n",
       " 'Great',\n",
       " 'H500',\n",
       " 'HATED',\n",
       " 'HOT',\n",
       " 'HS850',\n",
       " 'Hands',\n",
       " 'Handsfree',\n",
       " 'Has',\n",
       " 'He',\n",
       " 'Headset',\n",
       " 'Help',\n",
       " 'Highly',\n",
       " 'Highy',\n",
       " 'Hoping',\n",
       " 'Horrible',\n",
       " 'How',\n",
       " 'However',\n",
       " 'IM',\n",
       " 'INCLUDED',\n",
       " 'IT',\n",
       " 'Iam',\n",
       " 'If',\n",
       " 'In',\n",
       " 'Incredible',\n",
       " 'Integrated',\n",
       " 'Internet',\n",
       " 'It',\n",
       " 'Item',\n",
       " 'Items',\n",
       " 'Its',\n",
       " 'JERKS',\n",
       " 'JUNK',\n",
       " 'JX',\n",
       " 'Jabra',\n",
       " 'Jabra350',\n",
       " 'Jawbone',\n",
       " 'Junk',\n",
       " 'Just',\n",
       " 'Keep',\n",
       " 'Kindle',\n",
       " 'Krussel',\n",
       " 'L7c',\n",
       " 'LG',\n",
       " 'LOT',\n",
       " 'Lately',\n",
       " 'Life',\n",
       " 'Light',\n",
       " 'Linked',\n",
       " 'Linksys',\n",
       " 'Logitech',\n",
       " 'Long',\n",
       " 'Look',\n",
       " 'Looks',\n",
       " 'Los',\n",
       " 'Lots',\n",
       " 'Love',\n",
       " 'Low',\n",
       " 'MAJOR',\n",
       " 'MOTO',\n",
       " 'MP3',\n",
       " 'MY',\n",
       " 'Made',\n",
       " 'Magical',\n",
       " 'Media',\n",
       " 'Metro',\n",
       " 'Mic',\n",
       " 'Microsoft',\n",
       " 'Mobile',\n",
       " 'More',\n",
       " 'Moto',\n",
       " 'Motorola',\n",
       " 'Motorolas',\n",
       " 'Much',\n",
       " 'Muddy',\n",
       " 'My',\n",
       " 'NO',\n",
       " 'NOKIA',\n",
       " 'NOT',\n",
       " 'NOTHING',\n",
       " 'NYC',\n",
       " 'Needless',\n",
       " 'Network',\n",
       " 'New',\n",
       " 'Ngage',\n",
       " 'Nice',\n",
       " 'No',\n",
       " 'Nokia',\n",
       " 'None',\n",
       " 'Not',\n",
       " 'Now',\n",
       " 'OF',\n",
       " 'ON',\n",
       " 'OS',\n",
       " 'Obviously',\n",
       " 'Oh',\n",
       " 'One',\n",
       " 'Only',\n",
       " 'Other',\n",
       " 'Over',\n",
       " 'Overall',\n",
       " 'PC',\n",
       " 'PCS',\n",
       " 'PDA',\n",
       " 'PHONE',\n",
       " 'PHONES',\n",
       " 'PIECE',\n",
       " 'PROBLEMS',\n",
       " 'PS3',\n",
       " 'PURCHASE',\n",
       " 'Palm',\n",
       " 'People',\n",
       " 'Perfect',\n",
       " 'Performance',\n",
       " 'Performed',\n",
       " 'Perhaps',\n",
       " 'Phone',\n",
       " 'Piece',\n",
       " 'Plantronics',\n",
       " 'Plantronincs',\n",
       " 'Player',\n",
       " 'Please',\n",
       " 'Plug',\n",
       " 'Plus',\n",
       " 'Pocket',\n",
       " 'Poor',\n",
       " 'Poorly',\n",
       " 'Portable',\n",
       " 'Premium',\n",
       " 'Pretty',\n",
       " 'Price',\n",
       " 'Product',\n",
       " 'Pros',\n",
       " 'Protects',\n",
       " 'Provides',\n",
       " 'Purchase',\n",
       " 'QWERTY',\n",
       " 'Quality',\n",
       " 'RAZR',\n",
       " 'REAL',\n",
       " 'REALLY',\n",
       " 'REGARDING',\n",
       " 'RETURNED',\n",
       " 'Range',\n",
       " 'Razor',\n",
       " 'Razr',\n",
       " 'Really',\n",
       " 'Reception',\n",
       " 'Red',\n",
       " 'Research',\n",
       " 'Restored',\n",
       " 'Results',\n",
       " 'Returned',\n",
       " 'Reversible',\n",
       " 'Rip',\n",
       " 'S11',\n",
       " 'SATISFIED',\n",
       " 'SCH',\n",
       " 'SERVICE',\n",
       " 'SIM',\n",
       " 'SOS',\n",
       " 'SPINN',\n",
       " 'SUCKS',\n",
       " 'SUPERB',\n",
       " 'Same',\n",
       " 'Samsung',\n",
       " 'Sanyo',\n",
       " 'Save',\n",
       " 'Sending',\n",
       " 'Service',\n",
       " 'Setup',\n",
       " 'Signal',\n",
       " 'Simple',\n",
       " 'Skype',\n",
       " 'Small',\n",
       " 'So',\n",
       " 'Someone',\n",
       " 'Sony',\n",
       " 'Sound',\n",
       " 'Sounds',\n",
       " 'Soyo',\n",
       " 'Sprint',\n",
       " 'StarTac',\n",
       " 'Stay',\n",
       " 'Steer',\n",
       " 'Still',\n",
       " 'Strength',\n",
       " 'Superb',\n",
       " 'Supertooth',\n",
       " 'Surefire',\n",
       " 'TERRIBLE',\n",
       " 'THAT',\n",
       " 'THE',\n",
       " 'THIS',\n",
       " 'THey',\n",
       " 'TMobile',\n",
       " 'TV',\n",
       " 'TWO',\n",
       " 'Talk',\n",
       " 'Texas',\n",
       " 'Than',\n",
       " 'Thank',\n",
       " 'Thanks',\n",
       " 'That',\n",
       " 'The',\n",
       " 'Their',\n",
       " 'Then',\n",
       " 'There',\n",
       " 'These',\n",
       " 'They',\n",
       " 'Think',\n",
       " 'This',\n",
       " 'Those',\n",
       " 'Tied',\n",
       " 'Time',\n",
       " 'Timely',\n",
       " 'Too',\n",
       " 'Tools',\n",
       " 'Tracfone',\n",
       " 'Transmitters',\n",
       " 'Treo',\n",
       " 'Truly',\n",
       " 'Trying',\n",
       " 'Tungsten',\n",
       " 'UGLY',\n",
       " 'US',\n",
       " 'USB',\n",
       " 'USELESS',\n",
       " 'Uncomfortable',\n",
       " 'Unfortunately',\n",
       " 'Unless',\n",
       " 'Unreliable',\n",
       " 'Using',\n",
       " 'Utter',\n",
       " 'V325i',\n",
       " 'V3i',\n",
       " 'VERIZON',\n",
       " 'VERY',\n",
       " 'VX',\n",
       " 'VX9900',\n",
       " 'Value',\n",
       " 'Verizon',\n",
       " 'Very',\n",
       " 'Virgin',\n",
       " 'Voice',\n",
       " 'W810i',\n",
       " 'WANTED',\n",
       " 'WE',\n",
       " 'WELL',\n",
       " 'WHAT',\n",
       " 'WHITE',\n",
       " 'WITH',\n",
       " 'WORST',\n",
       " 'WORTHWHILE',\n",
       " 'Waiting',\n",
       " 'Walkman',\n",
       " 'Warning',\n",
       " 'Was',\n",
       " 'Waste',\n",
       " 'We',\n",
       " 'Well',\n",
       " 'Were',\n",
       " 'What',\n",
       " 'When',\n",
       " 'Who',\n",
       " 'Whoa',\n",
       " 'Will',\n",
       " 'Windows',\n",
       " 'Wirefly',\n",
       " 'Wireless',\n",
       " 'Worked',\n",
       " 'Works',\n",
       " 'Worst',\n",
       " 'Worth',\n",
       " 'Would',\n",
       " 'Yet',\n",
       " 'You',\n",
       " 'abhor',\n",
       " 'ability',\n",
       " 'able',\n",
       " 'about',\n",
       " 'above',\n",
       " 'absolutely',\n",
       " 'accept',\n",
       " 'acceptable',\n",
       " 'access',\n",
       " 'accessing',\n",
       " 'accessory',\n",
       " 'accidentally',\n",
       " 'accompanied',\n",
       " 'according',\n",
       " 'activate',\n",
       " 'activated',\n",
       " 'actually',\n",
       " 'ad',\n",
       " 'adapters',\n",
       " 'add',\n",
       " 'addition',\n",
       " 'additional',\n",
       " 'address',\n",
       " 'adhesive',\n",
       " 'adorable',\n",
       " 'advertised',\n",
       " 'advise',\n",
       " 'after',\n",
       " 'again',\n",
       " 'ago',\n",
       " 'alarm',\n",
       " 'all',\n",
       " 'allow',\n",
       " 'allowing',\n",
       " 'allows',\n",
       " 'almost',\n",
       " 'alone',\n",
       " 'along',\n",
       " 'also',\n",
       " 'although',\n",
       " 'aluminum',\n",
       " 'always',\n",
       " 'am',\n",
       " 'amazed',\n",
       " 'amazing',\n",
       " 'amazon',\n",
       " 'amp',\n",
       " 'ample',\n",
       " 'an',\n",
       " 'and',\n",
       " 'angle',\n",
       " 'another',\n",
       " 'antena',\n",
       " 'anti',\n",
       " 'any',\n",
       " 'anyone',\n",
       " 'anything',\n",
       " 'anyway',\n",
       " 'anywhere',\n",
       " 'apart',\n",
       " 'apartment',\n",
       " 'apparently',\n",
       " 'appealing',\n",
       " 'appearance',\n",
       " 'appears',\n",
       " 'applifies',\n",
       " 'appointments',\n",
       " 'are',\n",
       " 'area',\n",
       " 'around',\n",
       " 'arrival',\n",
       " 'arrived',\n",
       " 'as',\n",
       " 'ask',\n",
       " 'aspect',\n",
       " 'at',\n",
       " 'atleast',\n",
       " 'attacked',\n",
       " 'attractive',\n",
       " 'audio',\n",
       " 'auto',\n",
       " 'available',\n",
       " 'average',\n",
       " 'avoid',\n",
       " 'avoiding',\n",
       " 'away',\n",
       " 'awesome',\n",
       " 'awful',\n",
       " 'back',\n",
       " 'background',\n",
       " 'backlight',\n",
       " 'bad',\n",
       " 'balance',\n",
       " 'bar',\n",
       " 'barely',\n",
       " 'bargain',\n",
       " 'bars',\n",
       " 'basement',\n",
       " 'basic',\n",
       " 'basically',\n",
       " 'batteries',\n",
       " 'battery',\n",
       " 'be',\n",
       " 'beat',\n",
       " 'beats',\n",
       " 'beautiful',\n",
       " 'because',\n",
       " 'bed',\n",
       " 'been',\n",
       " 'before',\n",
       " 'behing',\n",
       " 'being',\n",
       " 'believe',\n",
       " 'bells',\n",
       " 'below',\n",
       " 'belt',\n",
       " 'best',\n",
       " 'better',\n",
       " 'between',\n",
       " 'beware',\n",
       " 'big',\n",
       " 'biggest',\n",
       " 'bills',\n",
       " 'bit',\n",
       " 'bitpim',\n",
       " 'black',\n",
       " 'blacktop',\n",
       " 'bland',\n",
       " 'blue',\n",
       " 'bluetoooth',\n",
       " 'bluetooth',\n",
       " 'bluetooths',\n",
       " 'book',\n",
       " 'booking',\n",
       " 'boost',\n",
       " 'boot',\n",
       " 'bose',\n",
       " 'both',\n",
       " 'bother',\n",
       " 'bought',\n",
       " 'bougth',\n",
       " 'brand',\n",
       " 'break',\n",
       " 'breakage',\n",
       " 'breaking',\n",
       " 'breaks',\n",
       " 'brilliant',\n",
       " 'broke',\n",
       " 'broken',\n",
       " 'browser',\n",
       " 'browsing',\n",
       " 'bubbling',\n",
       " 'bucks',\n",
       " 'buds',\n",
       " 'build',\n",
       " 'built',\n",
       " 'bulky',\n",
       " 'bumpers',\n",
       " 'but',\n",
       " 'button',\n",
       " 'buttons',\n",
       " 'buy',\n",
       " 'buyers',\n",
       " 'buying',\n",
       " 'buzzing',\n",
       " 'by',\n",
       " 'cable',\n",
       " 'calendar',\n",
       " 'call',\n",
       " 'called',\n",
       " 'calls',\n",
       " 'came',\n",
       " 'camera',\n",
       " 'can',\n",
       " 'cancelling',\n",
       " 'cannot',\n",
       " 'cant',\n",
       " 'capability',\n",
       " 'capacity',\n",
       " 'car',\n",
       " 'card',\n",
       " 'care',\n",
       " 'careful',\n",
       " 'carried',\n",
       " 'carriers',\n",
       " 'carries',\n",
       " 'case',\n",
       " 'cases',\n",
       " 'casing',\n",
       " 'cat',\n",
       " 'catching',\n",
       " 'caused',\n",
       " 'cell',\n",
       " 'cellphone',\n",
       " 'cellular',\n",
       " 'cent',\n",
       " 'certainly',\n",
       " 'changing',\n",
       " 'channel',\n",
       " 'charge',\n",
       " 'charged',\n",
       " 'charger',\n",
       " 'chargers',\n",
       " 'charges',\n",
       " 'charging',\n",
       " 'charm',\n",
       " 'cheap',\n",
       " 'cheaper',\n",
       " 'cheaply',\n",
       " 'cheapy',\n",
       " 'check',\n",
       " 'child',\n",
       " 'choice',\n",
       " 'choices',\n",
       " 'cingulair',\n",
       " 'clarity',\n",
       " 'classy',\n",
       " 'clear',\n",
       " 'clearly',\n",
       " 'clever',\n",
       " 'clicks',\n",
       " 'clip',\n",
       " 'clipping',\n",
       " 'clips',\n",
       " 'clock',\n",
       " 'colleague',\n",
       " 'color',\n",
       " 'colored',\n",
       " 'colors',\n",
       " 'combination',\n",
       " 'come',\n",
       " 'comes',\n",
       " 'comfort',\n",
       " 'comfortable',\n",
       " 'comfortably',\n",
       " 'comfortible',\n",
       " 'coming',\n",
       " 'comments',\n",
       " 'commercials',\n",
       " 'communicate',\n",
       " 'communication',\n",
       " 'communications',\n",
       " 'commuter',\n",
       " 'company',\n",
       " 'comparably',\n",
       " 'compared',\n",
       " 'compete',\n",
       " 'complained',\n",
       " 'complaint',\n",
       " 'complaints',\n",
       " 'completely',\n",
       " 'compliments',\n",
       " 'compromise',\n",
       " 'computer',\n",
       " 'concrete',\n",
       " 'conditions',\n",
       " 'confortable',\n",
       " 'connect',\n",
       " 'connected',\n",
       " 'connecting',\n",
       " 'connection',\n",
       " 'constantly',\n",
       " 'constructed',\n",
       " 'construction',\n",
       " 'consumer',\n",
       " 'contact',\n",
       " 'contacted',\n",
       " 'contacting',\n",
       " 'contacts',\n",
       " 'continue',\n",
       " 'continues',\n",
       " 'contract',\n",
       " 'contstruct',\n",
       " 'convenient',\n",
       " 'conversation',\n",
       " 'conversations',\n",
       " 'converter',\n",
       " 'cool',\n",
       " 'copier',\n",
       " 'copy',\n",
       " 'corded',\n",
       " 'correctly',\n",
       " 'cost',\n",
       " 'costs',\n",
       " 'could',\n",
       " 'couldn',\n",
       " 'couldnt',\n",
       " 'counter',\n",
       " 'couple',\n",
       " 'coupon',\n",
       " 'course',\n",
       " 'cover',\n",
       " 'coverage',\n",
       " 'crack',\n",
       " 'cracked',\n",
       " 'cradle',\n",
       " 'cradles',\n",
       " 'crap',\n",
       " 'crappy',\n",
       " 'crashed',\n",
       " 'crawl',\n",
       " 'creaks',\n",
       " 'crisp',\n",
       " 'cumbersome',\n",
       " 'currently',\n",
       " 'customer',\n",
       " 'cut',\n",
       " 'cute',\n",
       " 'damage',\n",
       " 'data',\n",
       " 'date',\n",
       " 'day',\n",
       " 'days',\n",
       " 'dead',\n",
       " 'deaf',\n",
       " 'deal',\n",
       " 'decade',\n",
       " 'decent',\n",
       " 'decision',\n",
       " 'defeats',\n",
       " 'defect',\n",
       " 'defective',\n",
       " 'deffinitely',\n",
       " 'definitely',\n",
       " 'definitly',\n",
       " 'delay',\n",
       " 'delivery',\n",
       " 'described',\n",
       " 'description',\n",
       " 'design',\n",
       " 'designed',\n",
       " 'designs',\n",
       " 'despite',\n",
       " 'destination',\n",
       " 'destroying',\n",
       " 'detachable',\n",
       " 'detailed',\n",
       " 'device',\n",
       " 'dialing',\n",
       " 'did',\n",
       " 'didn',\n",
       " 'died',\n",
       " 'different',\n",
       " 'difficult',\n",
       " 'directions',\n",
       " 'directly',\n",
       " 'disapoinment',\n",
       " 'disappointed',\n",
       " 'disappointing',\n",
       " 'disappointment',\n",
       " 'discarded',\n",
       " 'disconnected',\n",
       " 'discount',\n",
       " 'disgusting',\n",
       " 'display',\n",
       " 'disposable',\n",
       " 'dissapointed',\n",
       " 'distorted',\n",
       " 'distracting',\n",
       " 'dit',\n",
       " 'division',\n",
       " 'do',\n",
       " 'docking',\n",
       " 'does',\n",
       " 'doesn',\n",
       " 'doing',\n",
       " 'dollar',\n",
       " 'don',\n",
       " 'done',\n",
       " 'dont',\n",
       " 'double',\n",
       " 'down',\n",
       " 'download',\n",
       " 'downloading',\n",
       " 'dozen',\n",
       " 'dozens',\n",
       " 'drain',\n",
       " 'drained',\n",
       " 'drains',\n",
       " 'drawback',\n",
       " 'driving',\n",
       " 'drivng',\n",
       " 'drop',\n",
       " 'dropped',\n",
       " 'dropping',\n",
       " 'drops',\n",
       " 'durable',\n",
       " 'dustpan',\n",
       " 'dying',\n",
       " 'each',\n",
       " 'ear',\n",
       " 'earbud',\n",
       " 'earbuds',\n",
       " 'earbugs',\n",
       " 'eargels',\n",
       " 'earlier',\n",
       " 'earpad',\n",
       " 'earphone',\n",
       " 'earphones',\n",
       " 'earpiece',\n",
       " 'earpieces',\n",
       " 'ears',\n",
       " 'ease',\n",
       " 'easier',\n",
       " 'easy',\n",
       " 'echo',\n",
       " 'edge',\n",
       " 'effect',\n",
       " 'effective',\n",
       " 'effort',\n",
       " 'either',\n",
       " 'electronics',\n",
       " 'elegant',\n",
       " 'else',\n",
       " 'elsewhere',\n",
       " 'embarassing',\n",
       " 'embarrassing',\n",
       " 'embedded',\n",
       " 'encourage',\n",
       " 'end',\n",
       " 'ended',\n",
       " 'ends',\n",
       " 'engineered',\n",
       " 'enjoy',\n",
       " 'enough',\n",
       " 'enter',\n",
       " 'entertainment',\n",
       " 'entire',\n",
       " 'ergonomic',\n",
       " 'especially',\n",
       " 'essentially',\n",
       " 'etc',\n",
       " 'even',\n",
       " 'ever',\n",
       " 'every',\n",
       " 'everyday',\n",
       " 'everyone',\n",
       " 'everything',\n",
       " 'excellent',\n",
       " 'excels',\n",
       " 'except',\n",
       " 'excessive',\n",
       " 'exchange',\n",
       " 'exchanged',\n",
       " 'excited',\n",
       " 'exclaim',\n",
       " 'excrutiatingly',\n",
       " 'exercise',\n",
       " 'existing',\n",
       " 'expect',\n",
       " 'expectations',\n",
       " 'expected',\n",
       " 'expensive',\n",
       " 'experience',\n",
       " 'experienced',\n",
       " 'explain',\n",
       " 'extended',\n",
       " 'exterior',\n",
       " 'external',\n",
       " 'extra',\n",
       " 'extremely',\n",
       " 'eye',\n",
       " 'fabulous',\n",
       " 'face',\n",
       " 'faceplates',\n",
       " 'factor',\n",
       " 'failed',\n",
       " 'fairly',\n",
       " 'fall',\n",
       " 'falling',\n",
       " 'family',\n",
       " 'fantastic',\n",
       " 'far',\n",
       " 'fast',\n",
       " 'faster',\n",
       " 'favorite',\n",
       " 'feature',\n",
       " 'features',\n",
       " 'feel',\n",
       " 'feels',\n",
       " 'felt',\n",
       " 'few',\n",
       " 'fi',\n",
       " 'figure',\n",
       " 'file',\n",
       " 'finally',\n",
       " 'find',\n",
       " 'finds',\n",
       " 'fine',\n",
       " 'fingers',\n",
       " 'finished',\n",
       " 'first',\n",
       " 'fit',\n",
       " 'fits',\n",
       " 'fixes',\n",
       " 'flash',\n",
       " 'flaw',\n",
       " 'flawed',\n",
       " 'flawlessly',\n",
       " 'flimsy',\n",
       " 'flip',\n",
       " 'flipphones',\n",
       " 'floor',\n",
       " 'flush',\n",
       " 'followed',\n",
       " 'fond',\n",
       " 'for',\n",
       " 'forced',\n",
       " 'forever',\n",
       " 'forget',\n",
       " 'forgot',\n",
       " 'form',\n",
       " 'found',\n",
       " 'four',\n",
       " 'fourth',\n",
       " 'fraction',\n",
       " 'free',\n",
       " 'freedom',\n",
       " 'freeway',\n",
       " 'frequently4',\n",
       " 'frequentyly',\n",
       " 'friendly',\n",
       " 'friends',\n",
       " 'frog',\n",
       " 'from',\n",
       " 'front',\n",
       " 'frustration',\n",
       " 'fry',\n",
       " 'ft',\n",
       " 'full',\n",
       " 'fully',\n",
       " 'fun',\n",
       " 'function',\n",
       " 'functional',\n",
       " ...]"
      ]
     },
     "execution_count": 36,
     "metadata": {},
     "output_type": "execute_result"
    }
   ],
   "source": [
    "vectorizer.get_feature_names()"
   ]
  },
  {
   "cell_type": "code",
   "execution_count": 37,
   "metadata": {},
   "outputs": [],
   "source": [
    "from lime_text_new import LimeTextExplainer as LimeTextExplainer_new\n",
    "from lime.lime_text import LimeTextExplainer as LimeTextExplainer_old\n",
    "\n",
    "\n",
    "from sklearn.pipeline import make_pipeline\n",
    "c = make_pipeline(vectorizer, rf)"
   ]
  },
  {
   "cell_type": "code",
   "execution_count": 38,
   "metadata": {},
   "outputs": [
    {
     "name": "stdout",
     "output_type": "stream",
     "text": [
      "[[0.076 0.924]]\n"
     ]
    }
   ],
   "source": [
    "print(c.predict_proba([df_test.Data[0]]))\n",
    "###for single instance above \n",
    "###print(c.predict_proba(df_test.Data))"
   ]
  },
  {
   "cell_type": "code",
   "execution_count": 39,
   "metadata": {},
   "outputs": [],
   "source": [
    "#from lime.lime_text import LimeTextExplainer\n",
    "explainer_old = LimeTextExplainer_old()\n",
    "explainer_new = LimeTextExplainer_new()\n",
    "\n",
    "class_names = ['negative','positive']"
   ]
  },
  {
   "cell_type": "code",
   "execution_count": 40,
   "metadata": {},
   "outputs": [
    {
     "data": {
      "text/plain": [
       "202"
      ]
     },
     "execution_count": 40,
     "metadata": {},
     "output_type": "execute_result"
    }
   ],
   "source": [
    "len(df_test.Data)"
   ]
  },
  {
   "cell_type": "code",
   "execution_count": 41,
   "metadata": {},
   "outputs": [
    {
     "name": "stderr",
     "output_type": "stream",
     "text": [
      "C:\\Users\\Atin\\Anaconda3\\lib\\re.py:212: FutureWarning: split() requires a non-empty pattern match.\n",
      "  return _compile(pattern, flags).split(string, maxsplit)\n",
      "C:\\Users\\Atin\\Anaconda3\\lib\\re.py:212: FutureWarning: split() requires a non-empty pattern match.\n",
      "  return _compile(pattern, flags).split(string, maxsplit)\n"
     ]
    },
    {
     "name": "stdout",
     "output_type": "stream",
     "text": [
      "Document id: 17\n",
      "Probability(positive) = 0.44\n",
      "True class: positive\n"
     ]
    }
   ],
   "source": [
    "idx = 17\n",
    "exp_old = explainer_old.explain_instance(df_test.Data[idx], c.predict_proba, num_features=6,num_samples=100)\n",
    "exp_new = explainer_new.explain_instance(df_test.Data,test_vectors,df_test.Data[idx],idx, c.predict_proba, num_features=6,num_samples=100)\n",
    "print('Document id: %d' % idx)\n",
    "print('Probability(positive) =', c.predict_proba([df_test.Data[idx]])[0,1])\n",
    "print('True class: %s' % class_names[df_test.Target[idx]])"
   ]
  },
  {
   "cell_type": "code",
   "execution_count": 42,
   "metadata": {},
   "outputs": [
    {
     "data": {
      "text/plain": [
       "[('won', 0.0784690932298989),\n",
       " ('Gets', 0.07091812671064215),\n",
       " ('phones', 0.06293843723073016),\n",
       " ('other', -0.024919674894641235),\n",
       " ('when', 0.01905238925709344),\n",
       " ('signal', -0.008549096905699109)]"
      ]
     },
     "execution_count": 42,
     "metadata": {},
     "output_type": "execute_result"
    }
   ],
   "source": [
    "exp_old.as_list()"
   ]
  },
  {
   "cell_type": "code",
   "execution_count": 45,
   "metadata": {},
   "outputs": [
    {
     "data": {
      "text/plain": [
       "'not'"
      ]
     },
     "execution_count": 45,
     "metadata": {},
     "output_type": "execute_result"
    }
   ],
   "source": [
    "vectorizer.get_feature_names()[1320]"
   ]
  },
  {
   "cell_type": "code",
   "execution_count": 98,
   "metadata": {},
   "outputs": [
    {
     "data": {
      "text/plain": [
       "'use'"
      ]
     },
     "execution_count": 98,
     "metadata": {},
     "output_type": "execute_result"
    }
   ],
   "source": [
    "vectorizer.get_feature_names()[1835]"
   ]
  },
  {
   "cell_type": "code",
   "execution_count": null,
   "metadata": {},
   "outputs": [],
   "source": [
    "vectorizer.get_feature_names()[1835]"
   ]
  },
  {
   "cell_type": "code",
   "execution_count": null,
   "metadata": {},
   "outputs": [],
   "source": []
  },
  {
   "cell_type": "code",
   "execution_count": null,
   "metadata": {},
   "outputs": [],
   "source": []
  },
  {
   "cell_type": "code",
   "execution_count": 51,
   "metadata": {},
   "outputs": [],
   "source": [
    "temp1 = ['Gets', 'a', 'signal', 'when', 'other', 'Verizon', 'phones', 'won', 't']"
   ]
  },
  {
   "cell_type": "code",
   "execution_count": 52,
   "metadata": {},
   "outputs": [
    {
     "data": {
      "text/plain": [
       "list"
      ]
     },
     "execution_count": 52,
     "metadata": {},
     "output_type": "execute_result"
    }
   ],
   "source": [
    "type(temp1)"
   ]
  },
  {
   "cell_type": "code",
   "execution_count": 60,
   "metadata": {},
   "outputs": [
    {
     "data": {
      "text/plain": [
       "['Gets', 'Verizon', 'a', 'other', 'phones', 'signal', 't', 'when', 'won']"
      ]
     },
     "execution_count": 60,
     "metadata": {},
     "output_type": "execute_result"
    }
   ],
   "source": [
    "from functools import cmp_to_key\n",
    "import locale\n",
    "sorted(temp1)"
   ]
  },
  {
   "cell_type": "code",
   "execution_count": 62,
   "metadata": {},
   "outputs": [
    {
     "data": {
      "text/plain": [
       "['a', 'Gets', 'other', 'phones', 'signal', 't', 'Verizon', 'when', 'won']"
      ]
     },
     "execution_count": 62,
     "metadata": {},
     "output_type": "execute_result"
    }
   ],
   "source": [
    "sorted(temp1, key=str.lower)\n"
   ]
  },
  {
   "cell_type": "code",
   "execution_count": 110,
   "metadata": {},
   "outputs": [
    {
     "data": {
      "text/plain": [
       "(array([0, 0, 0, 0, 0, 0, 0]),\n",
       " array([ 188,  430, 1358, 1406, 1620, 1885, 1912]))"
      ]
     },
     "execution_count": 110,
     "metadata": {},
     "output_type": "execute_result"
    }
   ],
   "source": [
    "test_vectors[idx,:].nonzero()"
   ]
  },
  {
   "cell_type": "code",
   "execution_count": 94,
   "metadata": {},
   "outputs": [],
   "source": [
    "temp = (test_vectors[idx,:].nonzero()[1])"
   ]
  },
  {
   "cell_type": "code",
   "execution_count": 95,
   "metadata": {},
   "outputs": [
    {
     "data": {
      "text/plain": [
       "numpy.ndarray"
      ]
     },
     "execution_count": 95,
     "metadata": {},
     "output_type": "execute_result"
    }
   ],
   "source": [
    "type(temp)"
   ]
  },
  {
   "cell_type": "code",
   "execution_count": 96,
   "metadata": {},
   "outputs": [],
   "source": [
    "temp2 = list(vectorizer.get_feature_names()[ x] for x in temp )"
   ]
  },
  {
   "cell_type": "code",
   "execution_count": 97,
   "metadata": {},
   "outputs": [
    {
     "data": {
      "text/plain": [
       "['Gets', 'Verizon', 'other', 'phones', 'signal', 'when', 'won']"
      ]
     },
     "execution_count": 97,
     "metadata": {},
     "output_type": "execute_result"
    }
   ],
   "source": [
    "temp2"
   ]
  },
  {
   "cell_type": "code",
   "execution_count": 90,
   "metadata": {},
   "outputs": [
    {
     "data": {
      "text/plain": [
       "\"Gets a signal when other Verizon phones won't.\""
      ]
     },
     "execution_count": 90,
     "metadata": {},
     "output_type": "execute_result"
    }
   ],
   "source": [
    "df_test.Data[idx]"
   ]
  },
  {
   "cell_type": "code",
   "execution_count": 99,
   "metadata": {},
   "outputs": [],
   "source": [
    "local_exp= [(1320, -0.34507339063901526), (1835, 0.3138242621019842), (515, 0.3002038175134578), (1029, 0.2776172545332287), (278, -0.242272195142938), (624, 0.18217884906729748)]"
   ]
  },
  {
   "cell_type": "code",
   "execution_count": 100,
   "metadata": {},
   "outputs": [
    {
     "data": {
      "text/plain": [
       "list"
      ]
     },
     "execution_count": 100,
     "metadata": {},
     "output_type": "execute_result"
    }
   ],
   "source": [
    "type(local_exp)"
   ]
  },
  {
   "cell_type": "code",
   "execution_count": 108,
   "metadata": {},
   "outputs": [],
   "source": [
    "expl = list(x[0] for x in local_exp)"
   ]
  },
  {
   "cell_type": "code",
   "execution_count": 109,
   "metadata": {},
   "outputs": [
    {
     "data": {
      "text/plain": [
       "[1320, 1835, 515, 1029, 278, 624]"
      ]
     },
     "execution_count": 109,
     "metadata": {},
     "output_type": "execute_result"
    }
   ],
   "source": [
    "expl"
   ]
  },
  {
   "cell_type": "code",
   "execution_count": null,
   "metadata": {},
   "outputs": [],
   "source": [
    "188,  430, 1358, 1406, 1620, 1885, 1912"
   ]
  },
  {
   "cell_type": "code",
   "execution_count": null,
   "metadata": {},
   "outputs": [],
   "source": []
  },
  {
   "cell_type": "code",
   "execution_count": 92,
   "metadata": {},
   "outputs": [
    {
     "data": {
      "text/plain": [
       "['Gets', 'Verizon', 'a', 'other', 'phones', 'signal', 't', 'when', 'won']"
      ]
     },
     "execution_count": 92,
     "metadata": {},
     "output_type": "execute_result"
    }
   ],
   "source": [
    "temp1"
   ]
  },
  {
   "cell_type": "code",
   "execution_count": 81,
   "metadata": {},
   "outputs": [
    {
     "name": "stdout",
     "output_type": "stream",
     "text": [
      "188\n",
      "430\n"
     ]
    }
   ],
   "source": [
    "for i, v in enumerate(temp):\n",
    "    if v == 188 or v== 430:\n",
    "        print(v)"
   ]
  },
  {
   "cell_type": "code",
   "execution_count": null,
   "metadata": {},
   "outputs": [],
   "source": []
  },
  {
   "cell_type": "code",
   "execution_count": 44,
   "metadata": {},
   "outputs": [
    {
     "ename": "IndexError",
     "evalue": "list index out of range",
     "output_type": "error",
     "traceback": [
      "\u001b[1;31m---------------------------------------------------------------------------\u001b[0m",
      "\u001b[1;31mIndexError\u001b[0m                                Traceback (most recent call last)",
      "\u001b[1;32m<ipython-input-44-2a00cf4c585e>\u001b[0m in \u001b[0;36m<module>\u001b[1;34m\u001b[0m\n\u001b[1;32m----> 1\u001b[1;33m \u001b[0mexp_new\u001b[0m\u001b[1;33m.\u001b[0m\u001b[0mshow_in_notebook\u001b[0m\u001b[1;33m(\u001b[0m\u001b[0mtext\u001b[0m\u001b[1;33m=\u001b[0m\u001b[1;32mTrue\u001b[0m\u001b[1;33m)\u001b[0m\u001b[1;33m\u001b[0m\u001b[1;33m\u001b[0m\u001b[0m\n\u001b[0m",
      "\u001b[1;32m~\\Anaconda3\\lib\\site-packages\\lime\\explanation.py\u001b[0m in \u001b[0;36mshow_in_notebook\u001b[1;34m(self, labels, predict_proba, show_predicted_value, **kwargs)\u001b[0m\n\u001b[0;32m    198\u001b[0m                                   \u001b[0mpredict_proba\u001b[0m\u001b[1;33m=\u001b[0m\u001b[0mpredict_proba\u001b[0m\u001b[1;33m,\u001b[0m\u001b[1;33m\u001b[0m\u001b[1;33m\u001b[0m\u001b[0m\n\u001b[0;32m    199\u001b[0m                                   \u001b[0mshow_predicted_value\u001b[0m\u001b[1;33m=\u001b[0m\u001b[0mshow_predicted_value\u001b[0m\u001b[1;33m,\u001b[0m\u001b[1;33m\u001b[0m\u001b[1;33m\u001b[0m\u001b[0m\n\u001b[1;32m--> 200\u001b[1;33m                                   **kwargs)))\n\u001b[0m\u001b[0;32m    201\u001b[0m \u001b[1;33m\u001b[0m\u001b[0m\n\u001b[0;32m    202\u001b[0m     def save_to_file(self,\n",
      "\u001b[1;32m~\\Anaconda3\\lib\\site-packages\\lime\\explanation.py\u001b[0m in \u001b[0;36mas_html\u001b[1;34m(self, labels, predict_proba, show_predicted_value, **kwargs)\u001b[0m\n\u001b[0;32m    290\u001b[0m         \u001b[1;32mif\u001b[0m \u001b[0mself\u001b[0m\u001b[1;33m.\u001b[0m\u001b[0mmode\u001b[0m \u001b[1;33m==\u001b[0m \u001b[1;34m\"classification\"\u001b[0m\u001b[1;33m:\u001b[0m\u001b[1;33m\u001b[0m\u001b[1;33m\u001b[0m\u001b[0m\n\u001b[0;32m    291\u001b[0m             \u001b[1;32mfor\u001b[0m \u001b[0mlabel\u001b[0m \u001b[1;32min\u001b[0m \u001b[0mlabels\u001b[0m\u001b[1;33m:\u001b[0m\u001b[1;33m\u001b[0m\u001b[1;33m\u001b[0m\u001b[0m\n\u001b[1;32m--> 292\u001b[1;33m                 \u001b[0mexp\u001b[0m \u001b[1;33m=\u001b[0m \u001b[0mjsonize\u001b[0m\u001b[1;33m(\u001b[0m\u001b[0mself\u001b[0m\u001b[1;33m.\u001b[0m\u001b[0mas_list\u001b[0m\u001b[1;33m(\u001b[0m\u001b[0mlabel\u001b[0m\u001b[1;33m)\u001b[0m\u001b[1;33m)\u001b[0m\u001b[1;33m\u001b[0m\u001b[1;33m\u001b[0m\u001b[0m\n\u001b[0m\u001b[0;32m    293\u001b[0m                 exp_js += u'''\n\u001b[0;32m    294\u001b[0m                 \u001b[0mexp_div\u001b[0m \u001b[1;33m=\u001b[0m \u001b[0mtop_div\u001b[0m\u001b[1;33m.\u001b[0m\u001b[0mappend\u001b[0m\u001b[1;33m(\u001b[0m\u001b[1;34m'div'\u001b[0m\u001b[1;33m)\u001b[0m\u001b[1;33m.\u001b[0m\u001b[0mclassed\u001b[0m\u001b[1;33m(\u001b[0m\u001b[1;34m'lime explanation'\u001b[0m\u001b[1;33m,\u001b[0m \u001b[0mtrue\u001b[0m\u001b[1;33m)\u001b[0m\u001b[1;33m;\u001b[0m\u001b[1;33m\u001b[0m\u001b[1;33m\u001b[0m\u001b[0m\n",
      "\u001b[1;32m~\\Anaconda3\\lib\\site-packages\\lime\\explanation.py\u001b[0m in \u001b[0;36mas_list\u001b[1;34m(self, label, **kwargs)\u001b[0m\n\u001b[0;32m    141\u001b[0m         \"\"\"\n\u001b[0;32m    142\u001b[0m         \u001b[0mlabel_to_use\u001b[0m \u001b[1;33m=\u001b[0m \u001b[0mlabel\u001b[0m \u001b[1;32mif\u001b[0m \u001b[0mself\u001b[0m\u001b[1;33m.\u001b[0m\u001b[0mmode\u001b[0m \u001b[1;33m==\u001b[0m \u001b[1;34m\"classification\"\u001b[0m \u001b[1;32melse\u001b[0m \u001b[0mself\u001b[0m\u001b[1;33m.\u001b[0m\u001b[0mdummy_label\u001b[0m\u001b[1;33m\u001b[0m\u001b[1;33m\u001b[0m\u001b[0m\n\u001b[1;32m--> 143\u001b[1;33m         \u001b[0mans\u001b[0m \u001b[1;33m=\u001b[0m \u001b[0mself\u001b[0m\u001b[1;33m.\u001b[0m\u001b[0mdomain_mapper\u001b[0m\u001b[1;33m.\u001b[0m\u001b[0mmap_exp_ids\u001b[0m\u001b[1;33m(\u001b[0m\u001b[0mself\u001b[0m\u001b[1;33m.\u001b[0m\u001b[0mlocal_exp\u001b[0m\u001b[1;33m[\u001b[0m\u001b[0mlabel_to_use\u001b[0m\u001b[1;33m]\u001b[0m\u001b[1;33m,\u001b[0m \u001b[1;33m**\u001b[0m\u001b[0mkwargs\u001b[0m\u001b[1;33m)\u001b[0m\u001b[1;33m\u001b[0m\u001b[1;33m\u001b[0m\u001b[0m\n\u001b[0m\u001b[0;32m    144\u001b[0m         \u001b[0mans\u001b[0m \u001b[1;33m=\u001b[0m \u001b[1;33m[\u001b[0m\u001b[1;33m(\u001b[0m\u001b[0mx\u001b[0m\u001b[1;33m[\u001b[0m\u001b[1;36m0\u001b[0m\u001b[1;33m]\u001b[0m\u001b[1;33m,\u001b[0m \u001b[0mfloat\u001b[0m\u001b[1;33m(\u001b[0m\u001b[0mx\u001b[0m\u001b[1;33m[\u001b[0m\u001b[1;36m1\u001b[0m\u001b[1;33m]\u001b[0m\u001b[1;33m)\u001b[0m\u001b[1;33m)\u001b[0m \u001b[1;32mfor\u001b[0m \u001b[0mx\u001b[0m \u001b[1;32min\u001b[0m \u001b[0mans\u001b[0m\u001b[1;33m]\u001b[0m\u001b[1;33m\u001b[0m\u001b[1;33m\u001b[0m\u001b[0m\n\u001b[0;32m    145\u001b[0m         \u001b[1;32mreturn\u001b[0m \u001b[0mans\u001b[0m\u001b[1;33m\u001b[0m\u001b[1;33m\u001b[0m\u001b[0m\n",
      "\u001b[1;32m~\\Documents\\GitHub\\lime\\lime\\lime_text_new.py\u001b[0m in \u001b[0;36mmap_exp_ids\u001b[1;34m(self, exp, positions)\u001b[0m\n\u001b[0;32m     54\u001b[0m                    for x in exp]\n\u001b[0;32m     55\u001b[0m         \u001b[1;32melse\u001b[0m\u001b[1;33m:\u001b[0m\u001b[1;33m\u001b[0m\u001b[1;33m\u001b[0m\u001b[0m\n\u001b[1;32m---> 56\u001b[1;33m             \u001b[0mexp\u001b[0m \u001b[1;33m=\u001b[0m \u001b[1;33m[\u001b[0m\u001b[1;33m(\u001b[0m\u001b[0mself\u001b[0m\u001b[1;33m.\u001b[0m\u001b[0mindexed_string\u001b[0m\u001b[1;33m.\u001b[0m\u001b[0mword\u001b[0m\u001b[1;33m(\u001b[0m\u001b[0mx\u001b[0m\u001b[1;33m[\u001b[0m\u001b[1;36m0\u001b[0m\u001b[1;33m]\u001b[0m\u001b[1;33m)\u001b[0m\u001b[1;33m,\u001b[0m \u001b[0mx\u001b[0m\u001b[1;33m[\u001b[0m\u001b[1;36m1\u001b[0m\u001b[1;33m]\u001b[0m\u001b[1;33m)\u001b[0m \u001b[1;32mfor\u001b[0m \u001b[0mx\u001b[0m \u001b[1;32min\u001b[0m \u001b[0mexp\u001b[0m\u001b[1;33m]\u001b[0m\u001b[1;33m\u001b[0m\u001b[1;33m\u001b[0m\u001b[0m\n\u001b[0m\u001b[0;32m     57\u001b[0m         \u001b[1;32mreturn\u001b[0m \u001b[0mexp\u001b[0m\u001b[1;33m\u001b[0m\u001b[1;33m\u001b[0m\u001b[0m\n\u001b[0;32m     58\u001b[0m \u001b[1;33m\u001b[0m\u001b[0m\n",
      "\u001b[1;32m~\\Documents\\GitHub\\lime\\lime\\lime_text_new.py\u001b[0m in \u001b[0;36m<listcomp>\u001b[1;34m(.0)\u001b[0m\n\u001b[0;32m     54\u001b[0m                    for x in exp]\n\u001b[0;32m     55\u001b[0m         \u001b[1;32melse\u001b[0m\u001b[1;33m:\u001b[0m\u001b[1;33m\u001b[0m\u001b[1;33m\u001b[0m\u001b[0m\n\u001b[1;32m---> 56\u001b[1;33m             \u001b[0mexp\u001b[0m \u001b[1;33m=\u001b[0m \u001b[1;33m[\u001b[0m\u001b[1;33m(\u001b[0m\u001b[0mself\u001b[0m\u001b[1;33m.\u001b[0m\u001b[0mindexed_string\u001b[0m\u001b[1;33m.\u001b[0m\u001b[0mword\u001b[0m\u001b[1;33m(\u001b[0m\u001b[0mx\u001b[0m\u001b[1;33m[\u001b[0m\u001b[1;36m0\u001b[0m\u001b[1;33m]\u001b[0m\u001b[1;33m)\u001b[0m\u001b[1;33m,\u001b[0m \u001b[0mx\u001b[0m\u001b[1;33m[\u001b[0m\u001b[1;36m1\u001b[0m\u001b[1;33m]\u001b[0m\u001b[1;33m)\u001b[0m \u001b[1;32mfor\u001b[0m \u001b[0mx\u001b[0m \u001b[1;32min\u001b[0m \u001b[0mexp\u001b[0m\u001b[1;33m]\u001b[0m\u001b[1;33m\u001b[0m\u001b[1;33m\u001b[0m\u001b[0m\n\u001b[0m\u001b[0;32m     57\u001b[0m         \u001b[1;32mreturn\u001b[0m \u001b[0mexp\u001b[0m\u001b[1;33m\u001b[0m\u001b[1;33m\u001b[0m\u001b[0m\n\u001b[0;32m     58\u001b[0m \u001b[1;33m\u001b[0m\u001b[0m\n",
      "\u001b[1;32m~\\Documents\\GitHub\\lime\\lime\\lime_text_new.py\u001b[0m in \u001b[0;36mword\u001b[1;34m(self, id_)\u001b[0m\n\u001b[0;32m    157\u001b[0m     \u001b[1;32mdef\u001b[0m \u001b[0mword\u001b[0m\u001b[1;33m(\u001b[0m\u001b[0mself\u001b[0m\u001b[1;33m,\u001b[0m \u001b[0mid_\u001b[0m\u001b[1;33m)\u001b[0m\u001b[1;33m:\u001b[0m\u001b[1;33m\u001b[0m\u001b[1;33m\u001b[0m\u001b[0m\n\u001b[0;32m    158\u001b[0m         \u001b[1;34m\"\"\"Returns the word that corresponds to id_ (int)\"\"\"\u001b[0m\u001b[1;33m\u001b[0m\u001b[1;33m\u001b[0m\u001b[0m\n\u001b[1;32m--> 159\u001b[1;33m         \u001b[1;32mreturn\u001b[0m \u001b[0mself\u001b[0m\u001b[1;33m.\u001b[0m\u001b[0minverse_vocab\u001b[0m\u001b[1;33m[\u001b[0m\u001b[0mid_\u001b[0m\u001b[1;33m]\u001b[0m\u001b[1;33m\u001b[0m\u001b[1;33m\u001b[0m\u001b[0m\n\u001b[0m\u001b[0;32m    160\u001b[0m \u001b[1;33m\u001b[0m\u001b[0m\n\u001b[0;32m    161\u001b[0m     \u001b[1;32mdef\u001b[0m \u001b[0mstring_position\u001b[0m\u001b[1;33m(\u001b[0m\u001b[0mself\u001b[0m\u001b[1;33m,\u001b[0m \u001b[0mid_\u001b[0m\u001b[1;33m)\u001b[0m\u001b[1;33m:\u001b[0m\u001b[1;33m\u001b[0m\u001b[1;33m\u001b[0m\u001b[0m\n",
      "\u001b[1;31mIndexError\u001b[0m: list index out of range"
     ]
    }
   ],
   "source": [
    "exp_new.show_in_notebook(text=True)"
   ]
  },
  {
   "cell_type": "code",
   "execution_count": null,
   "metadata": {},
   "outputs": [],
   "source": []
  },
  {
   "cell_type": "code",
   "execution_count": null,
   "metadata": {},
   "outputs": [],
   "source": []
  },
  {
   "cell_type": "code",
   "execution_count": null,
   "metadata": {},
   "outputs": [],
   "source": []
  },
  {
   "cell_type": "code",
   "execution_count": null,
   "metadata": {},
   "outputs": [],
   "source": []
  },
  {
   "cell_type": "code",
   "execution_count": null,
   "metadata": {},
   "outputs": [],
   "source": []
  },
  {
   "cell_type": "code",
   "execution_count": null,
   "metadata": {},
   "outputs": [],
   "source": [
    "c.predict_proba([df_test.Data[idx]])"
   ]
  },
  {
   "cell_type": "code",
   "execution_count": null,
   "metadata": {},
   "outputs": [],
   "source": [
    "df_test.Data[idx]"
   ]
  },
  {
   "cell_type": "code",
   "execution_count": null,
   "metadata": {},
   "outputs": [],
   "source": [
    "%matplotlib inline\n",
    "fig = exp.as_pyplot_figure()"
   ]
  },
  {
   "cell_type": "code",
   "execution_count": null,
   "metadata": {},
   "outputs": [],
   "source": [
    "exp.show_in_notebook(text=True)"
   ]
  },
  {
   "cell_type": "code",
   "execution_count": null,
   "metadata": {},
   "outputs": [],
   "source": [
    "exp.as_map()"
   ]
  },
  {
   "cell_type": "markdown",
   "metadata": {
    "collapsed": true
   },
   "source": [
    "### Lets try similar instances for prediction"
   ]
  },
  {
   "cell_type": "code",
   "execution_count": null,
   "metadata": {},
   "outputs": [],
   "source": [
    "idx = 18\n",
    "exp = explainer.explain_instance(df_test.Data[idx], c.predict_proba, num_features=6,num_samples=5000)\n",
    "print('Document id: %d' % idx)\n",
    "print('Probability(positive) =', c.predict_proba([df_test.Data[idx]])[0,1])\n",
    "print('True class: %s' % class_names[df_test.Target[idx]])"
   ]
  },
  {
   "cell_type": "code",
   "execution_count": null,
   "metadata": {},
   "outputs": [],
   "source": [
    "exp.as_list()"
   ]
  },
  {
   "cell_type": "code",
   "execution_count": null,
   "metadata": {},
   "outputs": [],
   "source": [
    "exp.show_in_notebook(text=True)"
   ]
  },
  {
   "cell_type": "code",
   "execution_count": null,
   "metadata": {},
   "outputs": [],
   "source": [
    "idx = 19\n",
    "exp = explainer.explain_instance(df_test.Data[idx], c.predict_proba, num_features=2,num_samples=5000)\n",
    "print('Document id: %d' % idx)\n",
    "print('Probability(positive) =', c.predict_proba([df_test.Data[idx]])[0,1])\n",
    "print('True class: %s' % class_names[df_test.Target[idx]])"
   ]
  },
  {
   "cell_type": "code",
   "execution_count": null,
   "metadata": {},
   "outputs": [],
   "source": [
    "exp.as_list()"
   ]
  },
  {
   "cell_type": "code",
   "execution_count": null,
   "metadata": {},
   "outputs": [],
   "source": [
    "exp.show_in_notebook(text=True)"
   ]
  },
  {
   "cell_type": "code",
   "execution_count": null,
   "metadata": {},
   "outputs": [],
   "source": []
  }
 ],
 "metadata": {
  "kernelspec": {
   "display_name": "Python 3",
   "language": "python",
   "name": "python3"
  },
  "language_info": {
   "codemirror_mode": {
    "name": "ipython",
    "version": 3
   },
   "file_extension": ".py",
   "mimetype": "text/x-python",
   "name": "python",
   "nbconvert_exporter": "python",
   "pygments_lexer": "ipython3",
   "version": "3.6.8"
  }
 },
 "nbformat": 4,
 "nbformat_minor": 2
}
